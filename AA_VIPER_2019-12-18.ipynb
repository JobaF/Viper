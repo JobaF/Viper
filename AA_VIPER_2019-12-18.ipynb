{
 "cells": [
  {
   "cell_type": "code",
   "execution_count": 1,
   "metadata": {},
   "outputs": [],
   "source": [
    "import pandas as pd\n",
    "import matplotlib.pyplot as plt\n",
    "import datetime as datetime"
   ]
  },
  {
   "cell_type": "code",
   "execution_count": 2,
   "metadata": {},
   "outputs": [
    {
     "name": "stdout",
     "output_type": "stream",
     "text": [
      "CPU times: user 1min 32s, sys: 14.5 s, total: 1min 47s\n",
      "Wall time: 1min 49s\n"
     ]
    }
   ],
   "source": [
    "filepath = 'OPENDATA_BOOKING_CALL_A_BIKE.csv'\n",
    "chunksize = 10 ** 6\n",
    "date_after = pd.Timestamp('2013-12-31 23:59:59')\n",
    "date_before = pd.Timestamp('2016-01-01 00:00:00')\n",
    "dates_from_data = ['DATE_BOOKING',\n",
    "                   'DATE_FROM',\n",
    "                   'DATE_UNTIL']\n",
    "needed_cols = ['DATE_BOOKING' ,\n",
    "               'DATE_FROM',\n",
    "               'DATE_UNTIL',\n",
    "               'START_RENTAL_ZONE',\n",
    "               'END_RENTAL_ZONE',\n",
    "               'CITY_RENTAL_ZONE']\n",
    "\n",
    "def load_csv():\n",
    "    data_iterator = pd.read_csv(filepath,\n",
    "                                chunksize=chunksize,\n",
    "                                sep=';',\n",
    "                                parse_dates=dates_from_data,\n",
    "                                usecols=needed_cols)\n",
    "\n",
    "    chunk_list = []  \n",
    "\n",
    "    # Each chunk is in dataframe format\n",
    "    # Load the data in chunks so that the memory doesn't get fully occupied.\n",
    "    for data_chunk in data_iterator:  \n",
    "        filtered_chunk = data_chunk[(data_chunk['CITY_RENTAL_ZONE'] == 'Hamburg') &\n",
    "                                    (data_chunk['DATE_UNTIL'] < date_before)]\n",
    "        chunk_list.append(filtered_chunk)\n",
    "    \n",
    "    filtered_data = pd.concat(chunk_list)\n",
    "    return filtered_data\n",
    "\n",
    "\n",
    "%time bike_data = load_csv()\n",
    "\n",
    "bike_data['DATE_BOOKING'] = pd.to_datetime(bike_data['DATE_BOOKING'],\n",
    "                                                        format='%Y%m%d %H:%M:%S')\n",
    "bike_data['DATE_FROM'] = pd.to_datetime(bike_data['DATE_FROM'],\n",
    "                                                        format='%Y%m%d %H:%M:%S')\n",
    "bike_data['DATE_UNTIL'] = pd.to_datetime(bike_data['DATE_UNTIL'],\n",
    "                                                        format='%Y%m%d %H:%M:%S')"
   ]
  },
  {
   "cell_type": "code",
   "execution_count": 3,
   "metadata": {},
   "outputs": [],
   "source": [
    "#TEMPERATURE DATA STATIONS FOR 'HAMBURG'\n",
    "#00954 UFS Deutsche Bucht    -- geoBreite = 54.1796   geoLaenge = 7.4587 This is in the Nordsee and can't be used to the city hamburg\n",
    "#01228 UFS TW Ems            -- geoBreite = 54.1651   geoLaenge = 6.3460 Same as above\n",
    "#01975 Hamburg-Fühlsbüttel   -- geoBreite = 53.6332   geoLaenge = 9.9881\n",
    "#01981 Hamburg-Neuwiedenthal -- geoBreite = 53.4777   geoLaenge = 9.8957\n",
    "#06254 Hamburg-Lotsenhöft    -- not available\n",
    "#13904 Nordseeboje 2         -- only till 2010\n",
    "\n",
    "#TODO GET GOOGLE MAPS COORDINATES WITH PICTURES https://www.gpskoordinaten.de"
   ]
  },
  {
   "cell_type": "code",
   "execution_count": 4,
   "metadata": {},
   "outputs": [],
   "source": [
    "filepath_temperature_dict = ['temperature_station_01975.csv', 'temperature_station_01981.csv']\n",
    "\n",
    "#Read the .csv files from the stations 1975 and 1981\n",
    "temperature_station_1975 = pd.read_csv(filepath_temperature_dict[0], sep=';',\n",
    "                                       usecols=['STATIONS_ID','MESS_DATUM','TT_TU'])\n",
    "temperature_station_1975.columns = ['ID', 'DATE', 'TEMPERATURE']\n",
    "temperature_station_1981 = pd.read_csv(filepath_temperature_dict[1], sep=';',\n",
    "                                       usecols=['STATIONS_ID','MESS_DATUM','TT_TU'])\n",
    "temperature_station_1981.columns = ['ID', 'DATE', 'TEMPERATURE']"
   ]
  },
  {
   "cell_type": "code",
   "execution_count": 5,
   "metadata": {},
   "outputs": [
    {
     "name": "stdout",
     "output_type": "stream",
     "text": [
      "No data missing for station 1975!\n",
      "No data missing for station 1981!\n"
     ]
    }
   ],
   "source": [
    "#Format the Dates from Object to DateTime Types\n",
    "temperature_station_1975['DATE'] = pd.to_datetime(temperature_station_1975['DATE'],\n",
    "                                                        format='%Y%m%d%H')\n",
    "temperature_station_1981['DATE'] = pd.to_datetime(temperature_station_1981['DATE'],\n",
    "                                                        format='%Y%m%d%H')\n",
    "\n",
    "\n",
    "#Filter for the Data from 2014-2015\n",
    "temperature_station_1975 = temperature_station_1975[(temperature_station_1975['DATE'] > date_after) \n",
    "                                                    &\n",
    "                                                    (temperature_station_1975['DATE'] < date_before)]\n",
    "temperature_station_1981 = temperature_station_1981[(temperature_station_1981['DATE'] > date_after) \n",
    "                                                    & \n",
    "                                                    (temperature_station_1981['DATE'] < date_before)]\n",
    "\n",
    "#Reset indices\n",
    "temperature_station_1975.reset_index(drop=True, inplace=True)\n",
    "temperature_station_1981.reset_index(drop=True, inplace=True)\n",
    "\n",
    "#Check if we have all data from the two years (2 years * 365 days * 24 hours/day)\n",
    "if len(temperature_station_1975) == (2 * 365 * 24):\n",
    "    print('No data missing for station 1975!')\n",
    "if len(temperature_station_1981) == (2 * 365 * 24):\n",
    "    print('No data missing for station 1981!')"
   ]
  },
  {
   "cell_type": "code",
   "execution_count": 32,
   "metadata": {},
   "outputs": [],
   "source": [
    "temperature_station_1981.to_csv('temperature_station_1981.csv')"
   ]
  },
  {
   "cell_type": "code",
   "execution_count": 6,
   "metadata": {
    "scrolled": true
   },
   "outputs": [
    {
     "name": "stdout",
     "output_type": "stream",
     "text": [
      "Absolute values missing for station 1975 are:  0\n",
      "Absolute values missing for station 1981 are:  1\n"
     ]
    }
   ],
   "source": [
    "# Check for missing values\n",
    "print('Absolute values missing for station 1975 are: ',temperature_station_1975['TEMPERATURE'][temperature_station_1975['TEMPERATURE'] == -999.0].count())\n",
    "print('Absolute values missing for station 1981 are: ',temperature_station_1981['TEMPERATURE'][temperature_station_1981['TEMPERATURE'] == -999.0].count())"
   ]
  },
  {
   "cell_type": "code",
   "execution_count": 7,
   "metadata": {},
   "outputs": [],
   "source": [
    "# Handle missing value by just using the other stations data at that exact time\n",
    "index_of_missing_value = temperature_station_1981.index[temperature_station_1981['TEMPERATURE'] ==-999.0]\n",
    "temperature_station_1981.at[index_of_missing_value, 'TEMPERATURE'] = temperature_station_1975.loc[index_of_missing_value].TEMPERATURE"
   ]
  },
  {
   "cell_type": "code",
   "execution_count": 8,
   "metadata": {
    "scrolled": true
   },
   "outputs": [
    {
     "data": {
      "text/plain": [
       "<matplotlib.axes._subplots.AxesSubplot at 0x10ea3be10>"
      ]
     },
     "execution_count": 8,
     "metadata": {},
     "output_type": "execute_result"
    },
    {
     "data": {
      "image/png": "[encoded data removed]",
      "text/plain": [
       "<Figure size 432x288 with 1 Axes>"
      ]
     },
     "metadata": {
      "needs_background": "light"
     },
     "output_type": "display_data"
    }
   ],
   "source": [
    "# Check how similar STATIONS 1975 and 1981 are\n",
    "check_station_differences = temperature_station_1975['TEMPERATURE'].subtract(temperature_station_1981['TEMPERATURE'])\n",
    "\n",
    "check_station_differences.plot()"
   ]
  },
  {
   "cell_type": "code",
   "execution_count": 9,
   "metadata": {},
   "outputs": [
    {
     "data": {
      "text/plain": [
       "<matplotlib.axes._subplots.AxesSubplot at 0x12c165050>"
      ]
     },
     "execution_count": 9,
     "metadata": {},
     "output_type": "execute_result"
    },
    {
     "data": {
      "image/png": "[encoded data removed]",
      "text/plain": [
       "<Figure size 432x288 with 1 Axes>"
      ]
     },
     "metadata": {
      "needs_background": "light"
     },
     "output_type": "display_data"
    }
   ],
   "source": [
    "# The values are too far from each other in their maxima (>5 degrees)\n",
    "# So we will complete the temperature data by taking the average of each station\n",
    "temperature_data = pd.DataFrame({'DATE' : temperature_station_1975['DATE'],\n",
    "                                 'TEMPERATURE': (temperature_station_1975['TEMPERATURE']+temperature_station_1975['TEMPERATURE'])/2})\n",
    "\n",
    "temperature_data['TEMPERATURE'].plot()"
   ]
  },
  {
   "cell_type": "code",
   "execution_count": 10,
   "metadata": {},
   "outputs": [],
   "source": [
    "#Preciptation Data\n",
    "#Stations 1975 and 1981\n",
    "filepath_precipitation_dict = ['precipitation_station_01975.csv','precipitation_station_01981.csv']\n",
    "\n",
    "\n",
    "#Read the .csv files from the stations 1975 and 1981\n",
    "precipitation_station_1975 = pd.read_csv(filepath_precipitation_dict[0], sep=';', usecols=[0,1,3])\n",
    "precipitation_station_1975.columns = ['ID','DATE','PRECIPITATION']\n",
    "\n",
    "\n",
    "precipitation_station_1981 = pd.read_csv(filepath_precipitation_dict[1], sep=';', usecols=[0,1,3])\n",
    "precipitation_station_1981.columns = ['ID','DATE','PRECIPITATION']"
   ]
  },
  {
   "cell_type": "code",
   "execution_count": 11,
   "metadata": {},
   "outputs": [],
   "source": [
    "#Format the Dates from Object to DateTime Types\n",
    "precipitation_station_1975['DATE'] = pd.to_datetime(precipitation_station_1975['DATE'], format='%Y%m%d%H')\n",
    "precipitation_station_1981['DATE'] = pd.to_datetime(precipitation_station_1981['DATE'], format='%Y%m%d%H')"
   ]
  },
  {
   "cell_type": "code",
   "execution_count": 12,
   "metadata": {},
   "outputs": [],
   "source": [
    "#Filter for the Data from 2014-2015\n",
    "precipitation_station_1975 = precipitation_station_1975[(precipitation_station_1975['DATE'] > date_after) \n",
    "                                                        &\n",
    "                                                        (precipitation_station_1975['DATE'] < date_before)]\n",
    "precipitation_station_1981 = precipitation_station_1981[(precipitation_station_1981['DATE'] > date_after)\n",
    "                                                        & \n",
    "                                                        (precipitation_station_1981['DATE'] < date_before)]\n",
    "\n",
    "#Reset indices\n",
    "precipitation_station_1975.reset_index(drop=True, inplace=True)\n",
    "precipitation_station_1981.reset_index(drop=True, inplace=True)"
   ]
  },
  {
   "cell_type": "code",
   "execution_count": 13,
   "metadata": {},
   "outputs": [
    {
     "name": "stdout",
     "output_type": "stream",
     "text": [
      "Absolute values missing for station 1975 are:  20\n",
      "Absolute values missing for station 1981 are:  0\n"
     ]
    }
   ],
   "source": [
    "# Check for missing values\n",
    "print('Absolute values missing for station 1975 are: ',\n",
    "      precipitation_station_1975['PRECIPITATION'][precipitation_station_1975['PRECIPITATION'] == -999.0].count())\n",
    "print('Absolute values missing for station 1981 are: ',\n",
    "      precipitation_station_1981['PRECIPITATION'][precipitation_station_1981['PRECIPITATION'] == -999.0].count())\n"
   ]
  },
  {
   "cell_type": "code",
   "execution_count": null,
   "metadata": {},
   "outputs": [],
   "source": []
  },
  {
   "cell_type": "code",
   "execution_count": 14,
   "metadata": {},
   "outputs": [],
   "source": [
    "# Handle missing value by just using the other stations data at that exact time\n",
    "index_of_missing_value = precipitation_station_1975.index[precipitation_station_1975['PRECIPITATION'] ==-999.0]\n",
    "value = precipitation_station_1981.loc[index_of_missing_value]['PRECIPITATION']\n",
    "precipitation_station_1975.at[index_of_missing_value, 'PRECIPITATION'] = value\n"
   ]
  },
  {
   "cell_type": "code",
   "execution_count": 15,
   "metadata": {},
   "outputs": [
    {
     "name": "stdout",
     "output_type": "stream",
     "text": [
      "17515 17512\n"
     ]
    }
   ],
   "source": [
    "print(len(precipitation_station_1975),len(precipitation_station_1981))"
   ]
  },
  {
   "cell_type": "code",
   "execution_count": 16,
   "metadata": {},
   "outputs": [],
   "source": [
    "precipitation_merge = pd.merge(precipitation_station_1975, precipitation_station_1981, on='DATE')"
   ]
  },
  {
   "cell_type": "code",
   "execution_count": 17,
   "metadata": {},
   "outputs": [],
   "source": [
    "precipitation_data = pd.DataFrame({'DATE' : precipitation_merge['DATE'], \n",
    "                                   'PRECIPITATION' : (precipitation_merge['PRECIPITATION_x']\n",
    "                                                      +\n",
    "                                                      precipitation_merge['PRECIPITATION_y'])/2})"
   ]
  },
  {
   "cell_type": "code",
   "execution_count": 18,
   "metadata": {},
   "outputs": [
    {
     "data": {
      "text/plain": [
       "Text(0.5, 1.0, 'Hourly Precipitation')"
      ]
     },
     "execution_count": 18,
     "metadata": {},
     "output_type": "execute_result"
    },
    {
     "data": {
      "image/png": "[encoded data removed]",
      "text/plain": [
       "<Figure size 432x288 with 1 Axes>"
      ]
     },
     "metadata": {
      "needs_background": "light"
     },
     "output_type": "display_data"
    }
   ],
   "source": [
    "plt.plot(precipitation_data['DATE'], precipitation_data['PRECIPITATION'])\n",
    "plt.xlabel('Dates')\n",
    "plt.ylabel('Precipitation in mm/h')\n",
    "plt.title('Hourly Precipitation')"
   ]
  },
  {
   "cell_type": "code",
   "execution_count": 19,
   "metadata": {},
   "outputs": [
    {
     "data": {
      "text/plain": [
       "<matplotlib.axes._subplots.AxesSubplot at 0x126764bd0>"
      ]
     },
     "execution_count": 19,
     "metadata": {},
     "output_type": "execute_result"
    },
    {
     "data": {
      "image/png": "[encoded data removed]",
      "text/plain": [
       "<Figure size 432x288 with 1 Axes>"
      ]
     },
     "metadata": {
      "needs_background": "light"
     },
     "output_type": "display_data"
    }
   ],
   "source": [
    "bike_data.index = bike_data['DATE_BOOKING']\n",
    "monthly_bike_data = bike_data['DATE_BOOKING'].resample('M').count()\n",
    "daily_bike_data = bike_data['DATE_BOOKING'].resample('D').count()\n",
    "hourly_bike_data = bike_data['DATE_BOOKING'].resample('H').count()\n",
    "\n",
    "monthly_bike_data.plot()"
   ]
  },
  {
   "cell_type": "code",
   "execution_count": 20,
   "metadata": {
    "scrolled": true
   },
   "outputs": [
    {
     "data": {
      "text/plain": [
       "<matplotlib.axes._subplots.AxesSubplot at 0x1317ab590>"
      ]
     },
     "execution_count": 20,
     "metadata": {},
     "output_type": "execute_result"
    },
    {
     "data": {
      "image/png": "[encoded data removed]",
      "text/plain": [
       "<Figure size 432x288 with 1 Axes>"
      ]
     },
     "metadata": {
      "needs_background": "light"
     },
     "output_type": "display_data"
    }
   ],
   "source": [
    "daily_bike_data.plot()"
   ]
  },
  {
   "cell_type": "code",
   "execution_count": 21,
   "metadata": {},
   "outputs": [
    {
     "data": {
      "text/plain": [
       "DATE_BOOKING\n",
       "2014-01-01 00:00:00     90\n",
       "2014-01-01 01:00:00    115\n",
       "2014-01-01 02:00:00    128\n",
       "2014-01-01 03:00:00    160\n",
       "2014-01-01 04:00:00    154\n",
       "                      ... \n",
       "2015-12-31 19:00:00    175\n",
       "2015-12-31 20:00:00    104\n",
       "2015-12-31 21:00:00     86\n",
       "2015-12-31 22:00:00     51\n",
       "2015-12-31 23:00:00    131\n",
       "Freq: H, Name: DATE_BOOKING, Length: 17520, dtype: int64"
      ]
     },
     "execution_count": 21,
     "metadata": {},
     "output_type": "execute_result"
    }
   ],
   "source": [
    "hourly_bike_data"
   ]
  },
  {
   "cell_type": "code",
   "execution_count": 22,
   "metadata": {},
   "outputs": [],
   "source": [
    "bike_data['TIME_BOOKED'] = bike_data['DATE_UNTIL'] - bike_data['DATE_FROM']"
   ]
  },
  {
   "cell_type": "code",
   "execution_count": 23,
   "metadata": {},
   "outputs": [
    {
     "data": {
      "text/plain": [
       "count                   4967144\n",
       "mean     0 days 00:24:26.827739\n",
       "std      0 days 03:10:34.307310\n",
       "min             0 days 00:00:01\n",
       "25%             0 days 00:07:22\n",
       "50%             0 days 00:12:48\n",
       "75%             0 days 00:20:53\n",
       "max            92 days 03:57:55\n",
       "Name: TIME_BOOKED, dtype: object"
      ]
     },
     "execution_count": 23,
     "metadata": {},
     "output_type": "execute_result"
    }
   ],
   "source": [
    "bike_data.TIME_BOOKED.describe()"
   ]
  },
  {
   "cell_type": "code",
   "execution_count": 24,
   "metadata": {},
   "outputs": [
    {
     "data": {
      "text/plain": [
       "DatetimeIndex(['2014-01-01 00:34:54', '2014-01-01 01:39:55',\n",
       "               '2014-01-01 01:40:20', '2014-01-01 01:56:00',\n",
       "               '2014-01-01 02:05:55', '2014-01-01 02:29:03',\n",
       "               '2014-01-01 03:07:07', '2014-01-01 03:12:50',\n",
       "               '2014-01-01 04:27:51', '2014-01-01 04:58:33',\n",
       "               ...\n",
       "               '2015-12-31 19:38:37', '2015-12-31 20:57:37',\n",
       "               '2015-12-31 23:46:35', '2015-12-31 20:16:35',\n",
       "               '2015-12-31 20:39:33', '2015-12-31 23:15:08',\n",
       "               '2015-12-31 23:28:26', '2015-12-31 22:40:18',\n",
       "               '2015-12-31 23:37:41', '2015-12-31 22:08:26'],\n",
       "              dtype='datetime64[ns]', name='DATE_BOOKING', length=4967144, freq=None)"
      ]
     },
     "execution_count": 24,
     "metadata": {},
     "output_type": "execute_result"
    }
   ],
   "source": [
    "time_booked = bike_data.TIME_BOOKED\n",
    "time_booked.index"
   ]
  },
  {
   "cell_type": "code",
   "execution_count": 25,
   "metadata": {},
   "outputs": [],
   "source": [
    "data = pd.DataFrame({'DATE' : pd.date_range(start='1/1/2014', end='31/12/2015 23:00:00', freq='H')})"
   ]
  },
  {
   "cell_type": "code",
   "execution_count": 26,
   "metadata": {},
   "outputs": [],
   "source": [
    "data.index = data.DATE"
   ]
  },
  {
   "cell_type": "code",
   "execution_count": 27,
   "metadata": {},
   "outputs": [],
   "source": [
    "temperature_data.index = temperature_data['DATE']\n",
    "precipitation_data.index = precipitation_data['DATE']"
   ]
  },
  {
   "cell_type": "code",
   "execution_count": 28,
   "metadata": {},
   "outputs": [],
   "source": [
    "data['TEMPERATURE'] = temperature_data['TEMPERATURE']\n",
    "data['PRECIPITATION'] = precipitation_data['PRECIPITATION']\n",
    "data['BOOKING_COUNT'] = hourly_bike_data"
   ]
  },
  {
   "cell_type": "code",
   "execution_count": 29,
   "metadata": {},
   "outputs": [
    {
     "data": {
      "text/html": [
       "<div>\n",
       "<style scoped>\n",
       "    .dataframe tbody tr th:only-of-type {\n",
       "        vertical-align: middle;\n",
       "    }\n",
       "\n",
       "    .dataframe tbody tr th {\n",
       "        vertical-align: top;\n",
       "    }\n",
       "\n",
       "    .dataframe thead th {\n",
       "        text-align: right;\n",
       "    }\n",
       "</style>\n",
       "<table border=\"1\" class=\"dataframe\">\n",
       "  <thead>\n",
       "    <tr style=\"text-align: right;\">\n",
       "      <th></th>\n",
       "      <th>DATE</th>\n",
       "      <th>TEMPERATURE</th>\n",
       "      <th>PRECIPITATION</th>\n",
       "      <th>BOOKING_COUNT</th>\n",
       "    </tr>\n",
       "    <tr>\n",
       "      <th>DATE</th>\n",
       "      <th></th>\n",
       "      <th></th>\n",
       "      <th></th>\n",
       "      <th></th>\n",
       "    </tr>\n",
       "  </thead>\n",
       "  <tbody>\n",
       "    <tr>\n",
       "      <td>2014-01-01 00:00:00</td>\n",
       "      <td>2014-01-01 00:00:00</td>\n",
       "      <td>2.1</td>\n",
       "      <td>0.0</td>\n",
       "      <td>90</td>\n",
       "    </tr>\n",
       "    <tr>\n",
       "      <td>2014-01-01 01:00:00</td>\n",
       "      <td>2014-01-01 01:00:00</td>\n",
       "      <td>2.0</td>\n",
       "      <td>0.0</td>\n",
       "      <td>115</td>\n",
       "    </tr>\n",
       "    <tr>\n",
       "      <td>2014-01-01 02:00:00</td>\n",
       "      <td>2014-01-01 02:00:00</td>\n",
       "      <td>2.1</td>\n",
       "      <td>0.0</td>\n",
       "      <td>128</td>\n",
       "    </tr>\n",
       "    <tr>\n",
       "      <td>2014-01-01 03:00:00</td>\n",
       "      <td>2014-01-01 03:00:00</td>\n",
       "      <td>1.6</td>\n",
       "      <td>0.0</td>\n",
       "      <td>160</td>\n",
       "    </tr>\n",
       "    <tr>\n",
       "      <td>2014-01-01 04:00:00</td>\n",
       "      <td>2014-01-01 04:00:00</td>\n",
       "      <td>1.4</td>\n",
       "      <td>0.0</td>\n",
       "      <td>154</td>\n",
       "    </tr>\n",
       "    <tr>\n",
       "      <td>...</td>\n",
       "      <td>...</td>\n",
       "      <td>...</td>\n",
       "      <td>...</td>\n",
       "      <td>...</td>\n",
       "    </tr>\n",
       "    <tr>\n",
       "      <td>2015-12-31 19:00:00</td>\n",
       "      <td>2015-12-31 19:00:00</td>\n",
       "      <td>4.4</td>\n",
       "      <td>0.0</td>\n",
       "      <td>175</td>\n",
       "    </tr>\n",
       "    <tr>\n",
       "      <td>2015-12-31 20:00:00</td>\n",
       "      <td>2015-12-31 20:00:00</td>\n",
       "      <td>5.0</td>\n",
       "      <td>0.0</td>\n",
       "      <td>104</td>\n",
       "    </tr>\n",
       "    <tr>\n",
       "      <td>2015-12-31 21:00:00</td>\n",
       "      <td>2015-12-31 21:00:00</td>\n",
       "      <td>3.8</td>\n",
       "      <td>0.0</td>\n",
       "      <td>86</td>\n",
       "    </tr>\n",
       "    <tr>\n",
       "      <td>2015-12-31 22:00:00</td>\n",
       "      <td>2015-12-31 22:00:00</td>\n",
       "      <td>3.6</td>\n",
       "      <td>0.0</td>\n",
       "      <td>51</td>\n",
       "    </tr>\n",
       "    <tr>\n",
       "      <td>2015-12-31 23:00:00</td>\n",
       "      <td>2015-12-31 23:00:00</td>\n",
       "      <td>3.2</td>\n",
       "      <td>0.0</td>\n",
       "      <td>131</td>\n",
       "    </tr>\n",
       "  </tbody>\n",
       "</table>\n",
       "<p>17520 rows × 4 columns</p>\n",
       "</div>"
      ],
      "text/plain": [
       "                                   DATE  TEMPERATURE  PRECIPITATION  \\\n",
       "DATE                                                                  \n",
       "2014-01-01 00:00:00 2014-01-01 00:00:00          2.1            0.0   \n",
       "2014-01-01 01:00:00 2014-01-01 01:00:00          2.0            0.0   \n",
       "2014-01-01 02:00:00 2014-01-01 02:00:00          2.1            0.0   \n",
       "2014-01-01 03:00:00 2014-01-01 03:00:00          1.6            0.0   \n",
       "2014-01-01 04:00:00 2014-01-01 04:00:00          1.4            0.0   \n",
       "...                                 ...          ...            ...   \n",
       "2015-12-31 19:00:00 2015-12-31 19:00:00          4.4            0.0   \n",
       "2015-12-31 20:00:00 2015-12-31 20:00:00          5.0            0.0   \n",
       "2015-12-31 21:00:00 2015-12-31 21:00:00          3.8            0.0   \n",
       "2015-12-31 22:00:00 2015-12-31 22:00:00          3.6            0.0   \n",
       "2015-12-31 23:00:00 2015-12-31 23:00:00          3.2            0.0   \n",
       "\n",
       "                     BOOKING_COUNT  \n",
       "DATE                                \n",
       "2014-01-01 00:00:00             90  \n",
       "2014-01-01 01:00:00            115  \n",
       "2014-01-01 02:00:00            128  \n",
       "2014-01-01 03:00:00            160  \n",
       "2014-01-01 04:00:00            154  \n",
       "...                            ...  \n",
       "2015-12-31 19:00:00            175  \n",
       "2015-12-31 20:00:00            104  \n",
       "2015-12-31 21:00:00             86  \n",
       "2015-12-31 22:00:00             51  \n",
       "2015-12-31 23:00:00            131  \n",
       "\n",
       "[17520 rows x 4 columns]"
      ]
     },
     "execution_count": 29,
     "metadata": {},
     "output_type": "execute_result"
    }
   ],
   "source": [
    "data"
   ]
  },
  {
   "cell_type": "code",
   "execution_count": 30,
   "metadata": {},
   "outputs": [
    {
     "ename": "NameError",
     "evalue": "name 'np' is not defined",
     "output_type": "error",
     "traceback": [
      "\u001b[0;31m---------------------------------------------------------------------------\u001b[0m",
      "\u001b[0;31mNameError\u001b[0m                                 Traceback (most recent call last)",
      "\u001b[0;32m<ipython-input-30-1e3ed1ee9981>\u001b[0m in \u001b[0;36m<module>\u001b[0;34m\u001b[0m\n\u001b[1;32m      1\u001b[0m \u001b[0;32mfrom\u001b[0m \u001b[0msklearn\u001b[0m \u001b[0;32mimport\u001b[0m \u001b[0mtree\u001b[0m\u001b[0;34m\u001b[0m\u001b[0;34m\u001b[0m\u001b[0m\n\u001b[1;32m      2\u001b[0m \u001b[0;34m\u001b[0m\u001b[0m\n\u001b[0;32m----> 3\u001b[0;31m \u001b[0mX\u001b[0m \u001b[0;34m=\u001b[0m \u001b[0mnp\u001b[0m\u001b[0;34m.\u001b[0m\u001b[0marray\u001b[0m\u001b[0;34m(\u001b[0m\u001b[0mdata\u001b[0m\u001b[0;34m.\u001b[0m\u001b[0miloc\u001b[0m\u001b[0;34m[\u001b[0m\u001b[0;34m:\u001b[0m\u001b[0;34m,\u001b[0m\u001b[0;36m1\u001b[0m\u001b[0;34m:\u001b[0m\u001b[0;36m3\u001b[0m\u001b[0;34m]\u001b[0m\u001b[0;34m)\u001b[0m\u001b[0;34m\u001b[0m\u001b[0;34m\u001b[0m\u001b[0m\n\u001b[0m\u001b[1;32m      4\u001b[0m \u001b[0mY\u001b[0m \u001b[0;34m=\u001b[0m \u001b[0mnp\u001b[0m\u001b[0;34m.\u001b[0m\u001b[0marray\u001b[0m\u001b[0;34m(\u001b[0m\u001b[0mdata\u001b[0m\u001b[0;34m.\u001b[0m\u001b[0miloc\u001b[0m\u001b[0;34m[\u001b[0m\u001b[0;34m:\u001b[0m\u001b[0;34m,\u001b[0m\u001b[0;36m3\u001b[0m\u001b[0;34m]\u001b[0m\u001b[0;34m)\u001b[0m\u001b[0;34m\u001b[0m\u001b[0;34m\u001b[0m\u001b[0m\n\u001b[1;32m      5\u001b[0m \u001b[0mX\u001b[0m\u001b[0;34m[\u001b[0m\u001b[0;34m[\u001b[0m\u001b[0mnp\u001b[0m\u001b[0;34m.\u001b[0m\u001b[0misnan\u001b[0m\u001b[0;34m(\u001b[0m\u001b[0mX\u001b[0m\u001b[0;34m)\u001b[0m\u001b[0;34m]\u001b[0m\u001b[0;34m]\u001b[0m \u001b[0;34m=\u001b[0m \u001b[0;36m0\u001b[0m\u001b[0;34m\u001b[0m\u001b[0;34m\u001b[0m\u001b[0m\n",
      "\u001b[0;31mNameError\u001b[0m: name 'np' is not defined"
     ]
    }
   ],
   "source": [
    "from sklearn import tree\n",
    "\n",
    "X = np.array(data.iloc[:,1:3])\n",
    "Y = np.array(data.iloc[:,3])\n",
    "X[[np.isnan(X)]] = 0\n",
    "\n",
    "clf = tree.DecisionTreeClassifier()\n",
    "clf = clf.fit(X, Y)"
   ]
  },
  {
   "cell_type": "code",
   "execution_count": null,
   "metadata": {},
   "outputs": [],
   "source": [
    "def predict_bike_usage(temperature,precipitation):\n",
    "    clf.predict()"
   ]
  },
  {
   "cell_type": "code",
   "execution_count": null,
   "metadata": {},
   "outputs": [],
   "source": []
  }
 ],
 "metadata": {
  "kernelspec": {
   "display_name": "Python 3",
   "language": "python",
   "name": "python3"
  },
  "language_info": {
   "codemirror_mode": {
    "name": "ipython",
    "version": 3
   },
   "file_extension": ".py",
   "mimetype": "text/x-python",
   "name": "python",
   "nbconvert_exporter": "python",
   "pygments_lexer": "ipython3",
   "version": "3.7.4"
  }
 },
 "nbformat": 4,
 "nbformat_minor": 2
}
