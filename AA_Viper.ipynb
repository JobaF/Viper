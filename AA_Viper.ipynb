{
 "cells": [
  {
   "cell_type": "code",
   "execution_count": 1,
   "metadata": {},
   "outputs": [],
   "source": [
    "import pandas as pd\n",
    "import matplotlib.pyplot as plt"
   ]
  },
  {
   "cell_type": "code",
   "execution_count": 2,
   "metadata": {},
   "outputs": [
    {
     "name": "stdout",
     "output_type": "stream",
     "text": [
      "CPU times: user 1min 25s, sys: 11.2 s, total: 1min 36s\n",
      "Wall time: 1min 36s\n"
     ]
    }
   ],
   "source": [
    "import datetime as datetime\n",
    "\n",
    "filepath = 'OPENDATA_BOOKING_CALL_A_BIKE.csv'\n",
    "chunksize = 10 ** 6\n",
    "date_before = pd.Timestamp('2016-01-01')\n",
    "dates_from_data = ['DATE_BOOKING','DATE_FROM', 'DATE_UNTIL']\n",
    "needed_cols = ['DATE_BOOKING' , 'DATE_FROM', 'DATE_UNTIL', 'START_RENTAL_ZONE', 'END_RENTAL_ZONE', 'CITY_RENTAL_ZONE']\n",
    "\n",
    "def load_csv():\n",
    "    data_iterator = pd.read_csv(filepath, chunksize=chunksize, sep=';', parse_dates=dates_from_data, usecols=needed_cols)\n",
    "\n",
    "    chunk_list = []  \n",
    "\n",
    "    # Each chunk is in dataframe format\n",
    "    for data_chunk in data_iterator:  \n",
    "        filtered_chunk = data_chunk[(data_chunk['CITY_RENTAL_ZONE'] == 'Hamburg') & (data_chunk['DATE_UNTIL'] < date_before)]\n",
    "        chunk_list.append(filtered_chunk)\n",
    "    \n",
    "    filtered_data = pd.concat(chunk_list)\n",
    "    \n",
    "%time load_csv()"
   ]
  },
  {
   "cell_type": "code",
   "execution_count": 4,
   "metadata": {},
   "outputs": [],
   "source": [
    "#00954 UFS Deutsche Bucht    -- geoBreite = 54.1796   geoLaenge = 7.4587 This is in the Nordsee and can't be used to the city hamburg\n",
    "#01228 UFS TW Ems            -- geoBreite = 54.1651   geoLaenge = 6.3460 Same as above\n",
    "#01975 Hamburg-Fühlsbüttel   -- geoBreite = 53.6332   geoLaenge = 9.9881\n",
    "#01981 Hamburg-Neuwiedenthal -- geoBreite = 53.4777   geoLaenge = 9.8957\n",
    "#06254 Hamburg-Lotsenhöft    -- not available\n",
    "#13904 Nordseeboje 2         -- only till 2010\n",
    "\n",
    "#TODO GET GOOGLE MAPS COORDINATES WITH PICTURES https://www.gpskoordinaten.de"
   ]
  },
  {
   "cell_type": "code",
   "execution_count": 84,
   "metadata": {},
   "outputs": [],
   "source": [
    "filepath_dict = ['temperature_station_00954.csv', 'temperature_station_01228.csv']\n",
    "\n",
    "station_00954 = pd.read_csv(filepath_dict[0], sep=';', usecols=['STATIONS_ID','MESS_DATUM','TT_TU'])\n",
    "station_01228 = pd.read_csv(filepath_dict[1], sep=';', usecols=['STATIONS_ID','MESS_DATUM','TT_TU'])"
   ]
  },
  {
   "cell_type": "code",
   "execution_count": 85,
   "metadata": {},
   "outputs": [
    {
     "name": "stdout",
     "output_type": "stream",
     "text": [
      "Station 2 has more values\n"
     ]
    }
   ],
   "source": [
    "date_after = pd.Timestamp('2014-01-01')\n",
    "\n",
    "#Format the Dates from Object to DateTime Types\n",
    "station_00954['MESS_DATUM'] = pd.to_datetime(station_00954['MESS_DATUM'], format='%Y%m%d%H')\n",
    "station_01228['MESS_DATUM'] = pd.to_datetime(station_01228['MESS_DATUM'], format='%Y%m%d%H')\n",
    "\n",
    "\n",
    "#Filter for the Data from 2014-2015\n",
    "station_00954 = station_00954[(station_00954['MESS_DATUM'] > date_after) & (station_00954['MESS_DATUM'] < date_before)]\n",
    "station_01228 = station_01228[(station_01228['MESS_DATUM'] > date_after) & (station_01228['MESS_DATUM'] < date_before)]\n",
    "\n",
    "\n",
    "#Check which station has more values and use that one\n",
    "if len(station_00954) > len(station_01228):\n",
    "    print('Station 1 has more values')\n",
    "else:\n",
    "    print('Station 2 has more values')"
   ]
  },
  {
   "cell_type": "code",
   "execution_count": 86,
   "metadata": {},
   "outputs": [
    {
     "name": "stdout",
     "output_type": "stream",
     "text": [
      "Missing values in station 2 are: 0.06%\n"
     ]
    }
   ],
   "source": [
    "#CHECK IF MISSING VALUES ARE SMALLER THAN 5%\n",
    "percentage_missing_values = (station_01228['TT_TU'][station_01228['TT_TU'] == -999.0].count()/station_01228['TT_TU'].count())*100\n",
    "print(\"Missing values in station 2 are: {0:1.2f}%\".format(percentage_missing_values))"
   ]
  },
  {
   "cell_type": "code",
   "execution_count": 87,
   "metadata": {},
   "outputs": [],
   "source": [
    "#The missing values of both sets are under 1%, so we can just drop them according to https://www.statisticssolutions.com/missing-values-in-data/\n",
    "#So we will first change \n",
    "temperature_data = station_2[station_2['TT_TU'] != -999]"
   ]
  },
  {
   "cell_type": "code",
   "execution_count": 88,
   "metadata": {},
   "outputs": [
    {
     "name": "stdout",
     "output_type": "stream",
     "text": [
      "0.7627283105022831\n"
     ]
    }
   ],
   "source": [
    "#How much percent of the whole data do we have\n",
    "print(len(temperature_data)/(365*24*2))"
   ]
  },
  {
   "cell_type": "code",
   "execution_count": 82,
   "metadata": {},
   "outputs": [
    {
     "data": {
      "text/plain": [
       "[<matplotlib.lines.Line2D at 0x12005f2d0>]"
      ]
     },
     "execution_count": 82,
     "metadata": {},
     "output_type": "execute_result"
    },
    {
     "data": {
      "image/png": "[encoded data removed]",
      "text/plain": [
       "<Figure size 432x288 with 1 Axes>"
      ]
     },
     "metadata": {
      "needs_background": "light"
     },
     "output_type": "display_data"
    }
   ],
   "source": [
    "plt.plot(temperature_data['TT_TU'])"
   ]
  },
  {
   "cell_type": "code",
   "execution_count": 69,
   "metadata": {},
   "outputs": [],
   "source": [
    "#CHECK HOW MANY VALUES ARE MISSING OVER THE TWO PERIOD SPAN"
   ]
  },
  {
   "cell_type": "code",
   "execution_count": 99,
   "metadata": {},
   "outputs": [
    {
     "data": {
      "text/html": [
       "<div>\n",
       "<style scoped>\n",
       "    .dataframe tbody tr th:only-of-type {\n",
       "        vertical-align: middle;\n",
       "    }\n",
       "\n",
       "    .dataframe tbody tr th {\n",
       "        vertical-align: top;\n",
       "    }\n",
       "\n",
       "    .dataframe thead th {\n",
       "        text-align: right;\n",
       "    }\n",
       "</style>\n",
       "<table border=\"1\" class=\"dataframe\">\n",
       "  <thead>\n",
       "    <tr style=\"text-align: right;\">\n",
       "      <th></th>\n",
       "      <th>STATIONS_ID</th>\n",
       "      <th>MESS_DATUM</th>\n",
       "      <th>TT_TU</th>\n",
       "    </tr>\n",
       "  </thead>\n",
       "  <tbody>\n",
       "    <tr>\n",
       "      <td>97949</td>\n",
       "      <td>1228</td>\n",
       "      <td>2015-01-02 22:00:00</td>\n",
       "      <td>7.6</td>\n",
       "    </tr>\n",
       "    <tr>\n",
       "      <td>97950</td>\n",
       "      <td>1228</td>\n",
       "      <td>2015-01-02 23:00:00</td>\n",
       "      <td>7.7</td>\n",
       "    </tr>\n",
       "    <tr>\n",
       "      <td>97951</td>\n",
       "      <td>1228</td>\n",
       "      <td>2015-01-03 00:00:00</td>\n",
       "      <td>7.7</td>\n",
       "    </tr>\n",
       "    <tr>\n",
       "      <td>97952</td>\n",
       "      <td>1228</td>\n",
       "      <td>2015-01-03 01:00:00</td>\n",
       "      <td>7.5</td>\n",
       "    </tr>\n",
       "    <tr>\n",
       "      <td>97953</td>\n",
       "      <td>1228</td>\n",
       "      <td>2015-01-03 02:00:00</td>\n",
       "      <td>7.7</td>\n",
       "    </tr>\n",
       "    <tr>\n",
       "      <td>...</td>\n",
       "      <td>...</td>\n",
       "      <td>...</td>\n",
       "      <td>...</td>\n",
       "    </tr>\n",
       "    <tr>\n",
       "      <td>98044</td>\n",
       "      <td>1228</td>\n",
       "      <td>2015-01-06 22:00:00</td>\n",
       "      <td>7.6</td>\n",
       "    </tr>\n",
       "    <tr>\n",
       "      <td>98045</td>\n",
       "      <td>1228</td>\n",
       "      <td>2015-01-06 23:00:00</td>\n",
       "      <td>7.0</td>\n",
       "    </tr>\n",
       "    <tr>\n",
       "      <td>98046</td>\n",
       "      <td>1228</td>\n",
       "      <td>2015-01-07 00:00:00</td>\n",
       "      <td>7.5</td>\n",
       "    </tr>\n",
       "    <tr>\n",
       "      <td>98047</td>\n",
       "      <td>1228</td>\n",
       "      <td>2015-01-07 01:00:00</td>\n",
       "      <td>7.9</td>\n",
       "    </tr>\n",
       "    <tr>\n",
       "      <td>98048</td>\n",
       "      <td>1228</td>\n",
       "      <td>2015-01-07 02:00:00</td>\n",
       "      <td>7.8</td>\n",
       "    </tr>\n",
       "  </tbody>\n",
       "</table>\n",
       "<p>100 rows × 3 columns</p>\n",
       "</div>"
      ],
      "text/plain": [
       "       STATIONS_ID          MESS_DATUM  TT_TU\n",
       "97949         1228 2015-01-02 22:00:00    7.6\n",
       "97950         1228 2015-01-02 23:00:00    7.7\n",
       "97951         1228 2015-01-03 00:00:00    7.7\n",
       "97952         1228 2015-01-03 01:00:00    7.5\n",
       "97953         1228 2015-01-03 02:00:00    7.7\n",
       "...            ...                 ...    ...\n",
       "98044         1228 2015-01-06 22:00:00    7.6\n",
       "98045         1228 2015-01-06 23:00:00    7.0\n",
       "98046         1228 2015-01-07 00:00:00    7.5\n",
       "98047         1228 2015-01-07 01:00:00    7.9\n",
       "98048         1228 2015-01-07 02:00:00    7.8\n",
       "\n",
       "[100 rows x 3 columns]"
      ]
     },
     "execution_count": 99,
     "metadata": {},
     "output_type": "execute_result"
    }
   ],
   "source": [
    "temperature_data.iloc[7100:7200]"
   ]
  },
  {
   "cell_type": "code",
   "execution_count": null,
   "metadata": {},
   "outputs": [],
   "source": []
  }
 ],
 "metadata": {
  "kernelspec": {
   "display_name": "Python 3",
   "language": "python",
   "name": "python3"
  },
  "language_info": {
   "codemirror_mode": {
    "name": "ipython",
    "version": 3
   },
   "file_extension": ".py",
   "mimetype": "text/x-python",
   "name": "python",
   "nbconvert_exporter": "python",
   "pygments_lexer": "ipython3",
   "version": "3.7.4"
  }
 },
 "nbformat": 4,
 "nbformat_minor": 2
}
