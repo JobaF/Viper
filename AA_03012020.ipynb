{
 "cells": [
  {
   "cell_type": "code",
   "execution_count": 1,
   "metadata": {},
   "outputs": [],
   "source": [
    "import pandas as pd\n",
    "import matplotlib.pyplot as plt\n",
    "import datetime as datetime\n",
    "import time"
   ]
  },
  {
   "cell_type": "code",
   "execution_count": 2,
   "metadata": {},
   "outputs": [
    {
     "name": "stdout",
     "output_type": "stream",
     "text": [
      "CPU times: user 1min 23s, sys: 11.2 s, total: 1min 34s\n",
      "Wall time: 1min 34s\n"
     ]
    }
   ],
   "source": [
    "# Define the Filepath for the Dataset\n",
    "filepath = 'OPENDATA_BOOKING_CALL_A_BIKE.csv'\n",
    "\n",
    "# Define the Chunksize\n",
    "chunksize = 10 ** 6\n",
    "\n",
    "# Define the specific Timerange \n",
    "date_after = pd.Timestamp('2013-12-31 23:59:59')\n",
    "date_before = pd.Timestamp('2016-01-01 00:00:00')\n",
    "\n",
    "# Define the Columns that contain Dates\n",
    "dates_from_data = ['DATE_BOOKING',\n",
    "                   'DATE_FROM',\n",
    "                   'DATE_UNTIL']\n",
    "\n",
    "# Define the columns that are needed from the Dataset\n",
    "needed_cols = ['DATE_BOOKING' ,\n",
    "               'DATE_FROM',\n",
    "               'DATE_UNTIL',\n",
    "               'START_RENTAL_ZONE',\n",
    "               'END_RENTAL_ZONE',\n",
    "               'CITY_RENTAL_ZONE']\n",
    "\n",
    "# Definition that imports the dataset in Chunks of 1,000,000 rows to not clog the Memory\n",
    "def load_csv():\n",
    "    \n",
    "    data_iterator = pd.read_csv(filepath,\n",
    "                                chunksize=chunksize,\n",
    "                                sep=';',\n",
    "                                parse_dates=dates_from_data,\n",
    "                                usecols=needed_cols)\n",
    "    chunk_list = []  \n",
    "\n",
    "    # Each chunk is in dataframe format\n",
    "    for data_chunk in data_iterator:  \n",
    "        # Filter the Data for the City Hamburg and the given Time Horizon\n",
    "        filtered_chunk = data_chunk[(data_chunk['CITY_RENTAL_ZONE'] == 'Hamburg') &\n",
    "                                    (data_chunk['DATE_UNTIL'] > date_after) &\n",
    "                                    (data_chunk['DATE_UNTIL'] < date_before)]\n",
    "        # Append the chunk into a list, so we have the continued data\n",
    "        chunk_list.append(filtered_chunk)\n",
    "    filtered_data = pd.concat(chunk_list)\n",
    "    return filtered_data\n",
    "\n",
    "# Time how long it takes to load the Bike Dataset and insert it into the bike_data variable\n",
    "%time bike_data = load_csv()\n",
    "\n",
    "# Format the Dates from Object to DateTime Types\n",
    "bike_data['DATE_BOOKING'] = pd.to_datetime(bike_data['DATE_BOOKING'],\n",
    "                                                        format='%Y%m%d %H:%M:%S')\n",
    "bike_data['DATE_FROM'] = pd.to_datetime(bike_data['DATE_FROM'],\n",
    "                                                        format='%Y%m%d %H:%M:%S')\n",
    "bike_data['DATE_UNTIL'] = pd.to_datetime(bike_data['DATE_UNTIL'],\n",
    "                                                        format='%Y%m%d %H:%M:%S')"
   ]
  },
  {
   "cell_type": "code",
   "execution_count": 3,
   "metadata": {},
   "outputs": [
    {
     "data": {
      "text/html": [
       "<div>\n",
       "<style scoped>\n",
       "    .dataframe tbody tr th:only-of-type {\n",
       "        vertical-align: middle;\n",
       "    }\n",
       "\n",
       "    .dataframe tbody tr th {\n",
       "        vertical-align: top;\n",
       "    }\n",
       "\n",
       "    .dataframe thead th {\n",
       "        text-align: right;\n",
       "    }\n",
       "</style>\n",
       "<table border=\"1\" class=\"dataframe\">\n",
       "  <thead>\n",
       "    <tr style=\"text-align: right;\">\n",
       "      <th></th>\n",
       "      <th>DATE_BOOKING</th>\n",
       "      <th>DATE_FROM</th>\n",
       "      <th>DATE_UNTIL</th>\n",
       "      <th>START_RENTAL_ZONE</th>\n",
       "      <th>END_RENTAL_ZONE</th>\n",
       "      <th>CITY_RENTAL_ZONE</th>\n",
       "    </tr>\n",
       "  </thead>\n",
       "  <tbody>\n",
       "    <tr>\n",
       "      <td>0</td>\n",
       "      <td>2014-01-01 00:34:54</td>\n",
       "      <td>2014-01-01 00:34:54</td>\n",
       "      <td>2014-01-01 00:50:14</td>\n",
       "      <td>U-Bahn Baumwall</td>\n",
       "      <td>Mönckebergstraße / Rosenstraße</td>\n",
       "      <td>Hamburg</td>\n",
       "    </tr>\n",
       "    <tr>\n",
       "      <td>1</td>\n",
       "      <td>2014-01-01 01:39:55</td>\n",
       "      <td>2014-01-01 01:39:55</td>\n",
       "      <td>2014-01-01 01:57:27</td>\n",
       "      <td>Bahnhof Altona Ost/Max-Brauer-Allee</td>\n",
       "      <td>Schulterblatt/Eifflerstraße</td>\n",
       "      <td>Hamburg</td>\n",
       "    </tr>\n",
       "    <tr>\n",
       "      <td>2</td>\n",
       "      <td>2014-01-01 01:40:20</td>\n",
       "      <td>2014-01-01 01:40:20</td>\n",
       "      <td>2014-01-01 01:53:09</td>\n",
       "      <td>Weidestraße/Biedermannplatz</td>\n",
       "      <td>Jarrestraße / Rambatzweg</td>\n",
       "      <td>Hamburg</td>\n",
       "    </tr>\n",
       "    <tr>\n",
       "      <td>3</td>\n",
       "      <td>2014-01-01 01:56:00</td>\n",
       "      <td>2014-01-01 01:56:00</td>\n",
       "      <td>2014-01-01 01:56:41</td>\n",
       "      <td>Große Bergstraße / Jessenstraße</td>\n",
       "      <td>Große Bergstraße / Jessenstraße</td>\n",
       "      <td>Hamburg</td>\n",
       "    </tr>\n",
       "    <tr>\n",
       "      <td>4</td>\n",
       "      <td>2014-01-01 02:05:55</td>\n",
       "      <td>2014-01-01 02:05:55</td>\n",
       "      <td>2014-01-01 02:13:49</td>\n",
       "      <td>Mundsburg / Schürbeker Straße</td>\n",
       "      <td>Bartholomäusstraße/Beim Alten Schützenhof</td>\n",
       "      <td>Hamburg</td>\n",
       "    </tr>\n",
       "    <tr>\n",
       "      <td>...</td>\n",
       "      <td>...</td>\n",
       "      <td>...</td>\n",
       "      <td>...</td>\n",
       "      <td>...</td>\n",
       "      <td>...</td>\n",
       "      <td>...</td>\n",
       "    </tr>\n",
       "    <tr>\n",
       "      <td>8915006</td>\n",
       "      <td>2015-12-31 23:15:08</td>\n",
       "      <td>2015-12-31 23:15:08</td>\n",
       "      <td>2015-12-31 23:36:53</td>\n",
       "      <td>Löwenstraße/Eppendorfer Weg</td>\n",
       "      <td>Schulterblatt/Eifflerstraße</td>\n",
       "      <td>Hamburg</td>\n",
       "    </tr>\n",
       "    <tr>\n",
       "      <td>8915007</td>\n",
       "      <td>2015-12-31 23:28:26</td>\n",
       "      <td>2015-12-31 23:28:26</td>\n",
       "      <td>2015-12-31 23:43:06</td>\n",
       "      <td>Lortzingstraße/Friedrichsberger Straße</td>\n",
       "      <td>Eduard-Rhein-Ufer / Schwanenwik</td>\n",
       "      <td>Hamburg</td>\n",
       "    </tr>\n",
       "    <tr>\n",
       "      <td>8915076</td>\n",
       "      <td>2015-12-31 22:40:18</td>\n",
       "      <td>2015-12-31 22:40:18</td>\n",
       "      <td>2015-12-31 22:48:34</td>\n",
       "      <td>Hohenzollernring/Friedensallee</td>\n",
       "      <td>Bahnhof Altona West / Busbahnhof</td>\n",
       "      <td>Hamburg</td>\n",
       "    </tr>\n",
       "    <tr>\n",
       "      <td>8915078</td>\n",
       "      <td>2015-12-31 23:37:41</td>\n",
       "      <td>2015-12-31 23:37:41</td>\n",
       "      <td>2015-12-31 23:47:13</td>\n",
       "      <td>Burgstraße/Hammer Landstraße</td>\n",
       "      <td>Alsterschwimmhalle/Ifflandstraße</td>\n",
       "      <td>Hamburg</td>\n",
       "    </tr>\n",
       "    <tr>\n",
       "      <td>8915157</td>\n",
       "      <td>2015-12-31 22:08:26</td>\n",
       "      <td>2015-12-31 22:08:26</td>\n",
       "      <td>2015-12-31 22:33:32</td>\n",
       "      <td>Siemersplatz/Kollaustraße</td>\n",
       "      <td>Sternschanze / Eingang Dänenweg</td>\n",
       "      <td>Hamburg</td>\n",
       "    </tr>\n",
       "  </tbody>\n",
       "</table>\n",
       "<p>4967144 rows × 6 columns</p>\n",
       "</div>"
      ],
      "text/plain": [
       "               DATE_BOOKING           DATE_FROM          DATE_UNTIL  \\\n",
       "0       2014-01-01 00:34:54 2014-01-01 00:34:54 2014-01-01 00:50:14   \n",
       "1       2014-01-01 01:39:55 2014-01-01 01:39:55 2014-01-01 01:57:27   \n",
       "2       2014-01-01 01:40:20 2014-01-01 01:40:20 2014-01-01 01:53:09   \n",
       "3       2014-01-01 01:56:00 2014-01-01 01:56:00 2014-01-01 01:56:41   \n",
       "4       2014-01-01 02:05:55 2014-01-01 02:05:55 2014-01-01 02:13:49   \n",
       "...                     ...                 ...                 ...   \n",
       "8915006 2015-12-31 23:15:08 2015-12-31 23:15:08 2015-12-31 23:36:53   \n",
       "8915007 2015-12-31 23:28:26 2015-12-31 23:28:26 2015-12-31 23:43:06   \n",
       "8915076 2015-12-31 22:40:18 2015-12-31 22:40:18 2015-12-31 22:48:34   \n",
       "8915078 2015-12-31 23:37:41 2015-12-31 23:37:41 2015-12-31 23:47:13   \n",
       "8915157 2015-12-31 22:08:26 2015-12-31 22:08:26 2015-12-31 22:33:32   \n",
       "\n",
       "                              START_RENTAL_ZONE  \\\n",
       "0                               U-Bahn Baumwall   \n",
       "1           Bahnhof Altona Ost/Max-Brauer-Allee   \n",
       "2                   Weidestraße/Biedermannplatz   \n",
       "3               Große Bergstraße / Jessenstraße   \n",
       "4                 Mundsburg / Schürbeker Straße   \n",
       "...                                         ...   \n",
       "8915006             Löwenstraße/Eppendorfer Weg   \n",
       "8915007  Lortzingstraße/Friedrichsberger Straße   \n",
       "8915076          Hohenzollernring/Friedensallee   \n",
       "8915078            Burgstraße/Hammer Landstraße   \n",
       "8915157               Siemersplatz/Kollaustraße   \n",
       "\n",
       "                                   END_RENTAL_ZONE CITY_RENTAL_ZONE  \n",
       "0                   Mönckebergstraße / Rosenstraße          Hamburg  \n",
       "1                      Schulterblatt/Eifflerstraße          Hamburg  \n",
       "2                         Jarrestraße / Rambatzweg          Hamburg  \n",
       "3                  Große Bergstraße / Jessenstraße          Hamburg  \n",
       "4        Bartholomäusstraße/Beim Alten Schützenhof          Hamburg  \n",
       "...                                            ...              ...  \n",
       "8915006                Schulterblatt/Eifflerstraße          Hamburg  \n",
       "8915007            Eduard-Rhein-Ufer / Schwanenwik          Hamburg  \n",
       "8915076           Bahnhof Altona West / Busbahnhof          Hamburg  \n",
       "8915078           Alsterschwimmhalle/Ifflandstraße          Hamburg  \n",
       "8915157            Sternschanze / Eingang Dänenweg          Hamburg  \n",
       "\n",
       "[4967144 rows x 6 columns]"
      ]
     },
     "execution_count": 3,
     "metadata": {},
     "output_type": "execute_result"
    }
   ],
   "source": [
    "bike_data"
   ]
  },
  {
   "cell_type": "markdown",
   "metadata": {},
   "source": [
    "# TEMPERATURE DATA STATIONS FOR 'HAMBURG'\n",
    "\n",
    "-00954 UFS Deutsche Bucht    -- geoBreite = 54.1796   geoLaenge = 7.4587 North sea\n",
    "-01228 UFS TW Ems            -- geoBreite = 54.1651   geoLaenge = 6.3460 Same as above\n",
    "-01975 Hamburg-Fühlsbüttel   -- geoBreite = 53.6332   geoLaenge = 9.9881\n",
    "-01981 Hamburg-Neuwiedenthal -- geoBreite = 53.4777   geoLaenge = 9.8957\n",
    "-06254 Hamburg-Lotsenhöft    -- not available\n",
    "-13904 Nordseeboje 2         -- only till 2010\n"
   ]
  },
  {
   "cell_type": "code",
   "execution_count": 4,
   "metadata": {},
   "outputs": [],
   "source": [
    "# Define the filepath for the Temperature Data derived from the German Weather Service Data (DWD)\n",
    "filepath_temperature_dict = ['temperature_station_01975.csv', 'temperature_station_01981.csv']\n",
    "\n",
    "# Read the .csv files from the stations 1975 and 1981\n",
    "temperature_station_1975 = pd.read_csv(filepath_temperature_dict[0], sep=';',\n",
    "                                       usecols=['STATIONS_ID','MESS_DATUM','TT_TU'])\n",
    "temperature_station_1981 = pd.read_csv(filepath_temperature_dict[1], sep=';',\n",
    "                                       usecols=['STATIONS_ID','MESS_DATUM','TT_TU'])\n",
    "\n",
    "# Rename the columns to clearly know what they stand for\n",
    "temperature_station_1975.columns = ['ID', 'DATE', 'TEMPERATURE']\n",
    "temperature_station_1981.columns = ['ID', 'DATE', 'TEMPERATURE']"
   ]
  },
  {
   "cell_type": "code",
   "execution_count": 5,
   "metadata": {},
   "outputs": [
    {
     "name": "stdout",
     "output_type": "stream",
     "text": [
      "No data missing for station 1975!\n",
      "No data missing for station 1981!\n"
     ]
    }
   ],
   "source": [
    "# Format the Dates from Object to DateTime Types\n",
    "temperature_station_1975['DATE'] = pd.to_datetime(temperature_station_1975['DATE'],\n",
    "                                                        format='%Y%m%d%H')\n",
    "temperature_station_1981['DATE'] = pd.to_datetime(temperature_station_1981['DATE'],\n",
    "                                                        format='%Y%m%d%H')\n",
    "\n",
    "\n",
    "# Filter for the Data from 2014-2015\n",
    "temperature_station_1975 = temperature_station_1975[(temperature_station_1975['DATE'] > date_after) \n",
    "                                                    &\n",
    "                                                    (temperature_station_1975['DATE'] < date_before)]\n",
    "\n",
    "temperature_station_1981 = temperature_station_1981[(temperature_station_1981['DATE'] > date_after) \n",
    "                                                    & \n",
    "                                                    (temperature_station_1981['DATE'] < date_before)]\n",
    "\n",
    "# Reset the Indices so that we start at 0\n",
    "temperature_station_1975.reset_index(drop=True, inplace=True)\n",
    "temperature_station_1981.reset_index(drop=True, inplace=True)\n",
    "\n",
    "#Check if we have all Data from the two Years (2 years * 365 days * 24 hours/day)\n",
    "if len(temperature_station_1975) == (2 * 365 * 24):\n",
    "    print('No data missing for station 1975!')\n",
    "if len(temperature_station_1981) == (2 * 365 * 24):\n",
    "    print('No data missing for station 1981!')"
   ]
  },
  {
   "cell_type": "code",
   "execution_count": 6,
   "metadata": {
    "scrolled": true
   },
   "outputs": [
    {
     "name": "stdout",
     "output_type": "stream",
     "text": [
      "Absolute values missing for station 1975 are:  0\n",
      "Absolute values missing for station 1981 are:  1\n"
     ]
    }
   ],
   "source": [
    "# Check for missing Values\n",
    "print('Absolute values missing for station 1975 are: '\n",
    "      ,temperature_station_1975['TEMPERATURE'][temperature_station_1975['TEMPERATURE'] == -999.0].count())\n",
    "\n",
    "print('Absolute values missing for station 1981 are: '\n",
    "      ,temperature_station_1981['TEMPERATURE'][temperature_station_1981['TEMPERATURE'] == -999.0].count())\n"
   ]
  },
  {
   "cell_type": "code",
   "execution_count": 7,
   "metadata": {},
   "outputs": [],
   "source": [
    "# Handle missing Values by just using the other Stations Data at that exact Time \n",
    "# (obviously only works if the other Station has all the Data)\n",
    "\n",
    "index_of_missing_value = temperature_station_1981.index[temperature_station_1981['TEMPERATURE'] ==-999.0]\n",
    "\n",
    "temperature_station_1981.at[index_of_missing_value, 'TEMPERATURE'] = temperature_station_1975.loc[index_of_missing_value].TEMPERATURE"
   ]
  },
  {
   "cell_type": "code",
   "execution_count": 8,
   "metadata": {
    "scrolled": true
   },
   "outputs": [
    {
     "data": {
      "text/plain": [
       "<matplotlib.axes._subplots.AxesSubplot at 0x11defc850>"
      ]
     },
     "execution_count": 8,
     "metadata": {},
     "output_type": "execute_result"
    },
    {
     "data": {
      "image/png": "[encoded data removed]",
      "text/plain": [
       "<Figure size 432x288 with 1 Axes>"
      ]
     },
     "metadata": {
      "needs_background": "light"
     },
     "output_type": "display_data"
    }
   ],
   "source": [
    "# Plot the difference between the two station to check,\n",
    "# if we should take just one station for simplicity or take a mean of the two\n",
    "check_station_differences = temperature_station_1975['TEMPERATURE'].subtract(temperature_station_1981['TEMPERATURE'])\n",
    "check_station_differences.plot()"
   ]
  },
  {
   "cell_type": "code",
   "execution_count": 9,
   "metadata": {},
   "outputs": [
    {
     "data": {
      "text/plain": [
       "count    17520.000000\n",
       "mean        -0.506558\n",
       "std          0.786722\n",
       "min         -5.500000\n",
       "25%         -0.900000\n",
       "50%         -0.400000\n",
       "75%         -0.100000\n",
       "max          6.300000\n",
       "Name: TEMPERATURE, dtype: float64"
      ]
     },
     "execution_count": 9,
     "metadata": {},
     "output_type": "execute_result"
    }
   ],
   "source": [
    "check_station_differences.describe()"
   ]
  },
  {
   "cell_type": "code",
   "execution_count": 10,
   "metadata": {},
   "outputs": [
    {
     "data": {
      "text/plain": [
       "<matplotlib.axes._subplots.AxesSubplot at 0x130f84e50>"
      ]
     },
     "execution_count": 10,
     "metadata": {},
     "output_type": "execute_result"
    },
    {
     "data": {
      "image/png": "[encoded data removed]",
      "text/plain": [
       "<Figure size 432x288 with 1 Axes>"
      ]
     },
     "metadata": {
      "needs_background": "light"
     },
     "output_type": "display_data"
    }
   ],
   "source": [
    "# The values are too far from each other in their maxima (>5 degrees)\n",
    "# So we will complete the temperature data by taking the average of each station\n",
    "temperature_data = pd.DataFrame({'DATE' : temperature_station_1975['DATE'],\n",
    "                                 'TEMPERATURE': (temperature_station_1975['TEMPERATURE']\n",
    "                                                 +temperature_station_1975['TEMPERATURE'])/2})\n",
    "\n",
    "temperature_data['TEMPERATURE'].plot()"
   ]
  },
  {
   "cell_type": "code",
   "execution_count": 11,
   "metadata": {},
   "outputs": [],
   "source": [
    "# Precipitation Data\n",
    "\n",
    "# Define the Filepath for Stations 1975 and 1981\n",
    "filepath_precipitation_dict = ['precipitation_station_01975.csv','precipitation_station_01981.csv']\n",
    "\n",
    "# Read the .csv files from the stations 1975 and 1981\n",
    "precipitation_station_1975 = pd.read_csv(filepath_precipitation_dict[0], sep=';', usecols=[0,1,3])\n",
    "precipitation_station_1981 = pd.read_csv(filepath_precipitation_dict[1], sep=';', usecols=[0,1,3])\n",
    "\n",
    "# Rename the columns to clearly know what they stand for\n",
    "precipitation_station_1975.columns = ['ID','DATE','PRECIPITATION']\n",
    "precipitation_station_1981.columns = ['ID','DATE','PRECIPITATION']"
   ]
  },
  {
   "cell_type": "code",
   "execution_count": 12,
   "metadata": {},
   "outputs": [],
   "source": [
    "#Format the Dates from Object to DateTime Types\n",
    "precipitation_station_1975['DATE'] = pd.to_datetime(precipitation_station_1975['DATE'], format='%Y%m%d%H')\n",
    "precipitation_station_1981['DATE'] = pd.to_datetime(precipitation_station_1981['DATE'], format='%Y%m%d%H')"
   ]
  },
  {
   "cell_type": "code",
   "execution_count": 13,
   "metadata": {},
   "outputs": [],
   "source": [
    "#Filter for the Data from 2014-2015\n",
    "precipitation_station_1975 = precipitation_station_1975[(precipitation_station_1975['DATE'] > date_after) \n",
    "                                                        &\n",
    "                                                        (precipitation_station_1975['DATE'] < date_before)]\n",
    "precipitation_station_1981 = precipitation_station_1981[(precipitation_station_1981['DATE'] > date_after)\n",
    "                                                        & \n",
    "                                                        (precipitation_station_1981['DATE'] < date_before)]\n",
    "\n",
    "#Reset indices\n",
    "precipitation_station_1975.reset_index(drop=True, inplace=True)\n",
    "precipitation_station_1981.reset_index(drop=True, inplace=True)"
   ]
  },
  {
   "cell_type": "code",
   "execution_count": 14,
   "metadata": {},
   "outputs": [
    {
     "name": "stdout",
     "output_type": "stream",
     "text": [
      "Absolute values missing for station 1975 are:  20\n",
      "Absolute values missing for station 1981 are:  0\n"
     ]
    }
   ],
   "source": [
    "# Check for missing values\n",
    "print('Absolute values missing for station 1975 are: ',\n",
    "      precipitation_station_1975['PRECIPITATION'][precipitation_station_1975['PRECIPITATION'] == -999.0].count())\n",
    "print('Absolute values missing for station 1981 are: ',\n",
    "      precipitation_station_1981['PRECIPITATION'][precipitation_station_1981['PRECIPITATION'] == -999.0].count())\n"
   ]
  },
  {
   "cell_type": "code",
   "execution_count": 15,
   "metadata": {},
   "outputs": [],
   "source": [
    "# Handle missing value by just using the other stations data at that exact time\n",
    "index_of_missing_value = precipitation_station_1975.index[precipitation_station_1975['PRECIPITATION'] ==-999.0]\n",
    "value = precipitation_station_1981.loc[index_of_missing_value]['PRECIPITATION']\n",
    "precipitation_station_1975.at[index_of_missing_value, 'PRECIPITATION'] = value\n"
   ]
  },
  {
   "cell_type": "code",
   "execution_count": 16,
   "metadata": {},
   "outputs": [
    {
     "name": "stdout",
     "output_type": "stream",
     "text": [
      "Absolute values missing for station 1975 are:  0\n"
     ]
    }
   ],
   "source": [
    "# Check if we handled all the missing values\n",
    "\n",
    "print('Absolute values missing for station 1975 are: ',\n",
    "      precipitation_station_1975['PRECIPITATION'][precipitation_station_1975['PRECIPITATION'] == -999.0].count())"
   ]
  },
  {
   "cell_type": "code",
   "execution_count": 17,
   "metadata": {},
   "outputs": [
    {
     "name": "stdout",
     "output_type": "stream",
     "text": [
      "17515 17512\n"
     ]
    }
   ],
   "source": [
    "# Check the count of the two datasets\n",
    "print(len(precipitation_station_1975),len(precipitation_station_1981))"
   ]
  },
  {
   "cell_type": "code",
   "execution_count": 18,
   "metadata": {},
   "outputs": [],
   "source": [
    "# We need to merge the datasets because both have missing hours (!=17520 values) \n",
    "precipitation_merge = pd.merge(precipitation_station_1975, precipitation_station_1981, on='DATE')"
   ]
  },
  {
   "cell_type": "code",
   "execution_count": 19,
   "metadata": {},
   "outputs": [],
   "source": [
    "# Define the precipitation DataFrame from the merged data\n",
    "precipitation_data = pd.DataFrame({'DATE' : precipitation_merge['DATE'], \n",
    "                                   'PRECIPITATION' : (precipitation_merge['PRECIPITATION_x']\n",
    "                                                      +\n",
    "                                                      precipitation_merge['PRECIPITATION_y'])/2})"
   ]
  },
  {
   "cell_type": "code",
   "execution_count": 20,
   "metadata": {
    "scrolled": true
   },
   "outputs": [
    {
     "data": {
      "text/plain": [
       "Text(0.5, 1.0, 'Hourly Precipitation')"
      ]
     },
     "execution_count": 20,
     "metadata": {},
     "output_type": "execute_result"
    },
    {
     "data": {
      "image/png": "[encoded data removed]",
      "text/plain": [
       "<Figure size 432x288 with 1 Axes>"
      ]
     },
     "metadata": {
      "needs_background": "light"
     },
     "output_type": "display_data"
    }
   ],
   "source": [
    "# Plot the precipitation by the hour in mm, so we know what we are dealing with\n",
    "plt.plot(precipitation_data['DATE'], precipitation_data['PRECIPITATION'])\n",
    "plt.xlabel('Dates')\n",
    "plt.ylabel('Precipitation in mm/h')\n",
    "plt.title('Hourly Precipitation')"
   ]
  },
  {
   "cell_type": "code",
   "execution_count": 21,
   "metadata": {},
   "outputs": [],
   "source": [
    "bike_data.index = bike_data.DATE_BOOKING\n",
    "monthly_data_bike = []\n",
    "\n",
    "for i in range(1,13):\n",
    "    monthly_data_bike.append([i,bike_data['DATE_BOOKING'].loc[(bike_data['DATE_BOOKING'].dt.month) == i].count()])\n",
    "\n",
    "monthly_data_bike = pd.DataFrame(monthly_data_bike)"
   ]
  },
  {
   "cell_type": "code",
   "execution_count": 22,
   "metadata": {
    "scrolled": false
   },
   "outputs": [
    {
     "name": "stdout",
     "output_type": "stream",
     "text": [
      "<class 'pandas.core.frame.DataFrame'>\n",
      "RangeIndex: 12 entries, 0 to 11\n",
      "Data columns (total 2 columns):\n",
      "0    12 non-null int64\n",
      "1    12 non-null int64\n",
      "dtypes: int64(2)\n",
      "memory usage: 320.0 bytes\n"
     ]
    }
   ],
   "source": [
    "monthly_data_bike.info()"
   ]
  },
  {
   "cell_type": "markdown",
   "metadata": {},
   "source": [
    "# Bike Bookings per Month"
   ]
  },
  {
   "cell_type": "code",
   "execution_count": 23,
   "metadata": {
    "scrolled": true
   },
   "outputs": [
    {
     "data": {
      "text/plain": [
       "<BarContainer object of 12 artists>"
      ]
     },
     "execution_count": 23,
     "metadata": {},
     "output_type": "execute_result"
    },
    {
     "data": {
      "image/png": "[encoded data removed]",
      "text/plain": [
       "<Figure size 432x288 with 1 Axes>"
      ]
     },
     "metadata": {
      "needs_background": "light"
     },
     "output_type": "display_data"
    }
   ],
   "source": [
    "plt.bar(monthly_data_bike[0],monthly_data_bike[1])"
   ]
  },
  {
   "cell_type": "code",
   "execution_count": 24,
   "metadata": {},
   "outputs": [],
   "source": [
    "dayofweek_data_bike = []\n",
    "\n",
    "for i in range(0,7):\n",
    "    dayofweek_data_bike.append([i,bike_data['DATE_BOOKING'].loc[(bike_data['DATE_BOOKING'].dt.dayofweek) == i].count()])\n",
    "\n",
    "dayofweek_data_bike = pd.DataFrame(dayofweek_data_bike)\n"
   ]
  },
  {
   "cell_type": "code",
   "execution_count": 25,
   "metadata": {
    "scrolled": false
   },
   "outputs": [
    {
     "name": "stdout",
     "output_type": "stream",
     "text": [
      "<class 'pandas.core.frame.DataFrame'>\n",
      "RangeIndex: 7 entries, 0 to 6\n",
      "Data columns (total 2 columns):\n",
      "0    7 non-null int64\n",
      "1    7 non-null int64\n",
      "dtypes: int64(2)\n",
      "memory usage: 240.0 bytes\n"
     ]
    }
   ],
   "source": [
    "dayofweek_data_bike.info()"
   ]
  },
  {
   "cell_type": "code",
   "execution_count": 26,
   "metadata": {
    "scrolled": true
   },
   "outputs": [
    {
     "data": {
      "text/plain": [
       "0     696991\n",
       "1    1406901\n",
       "2    2156079\n",
       "3    2915664\n",
       "4    3676984\n",
       "5    4355602\n",
       "6    4967144\n",
       "Name: 1, dtype: int64"
      ]
     },
     "execution_count": 26,
     "metadata": {},
     "output_type": "execute_result"
    }
   ],
   "source": [
    "dayofweek_data_bike[1].cumsum()"
   ]
  },
  {
   "cell_type": "markdown",
   "metadata": {},
   "source": [
    "# Bike bookings per day of the week"
   ]
  },
  {
   "cell_type": "code",
   "execution_count": 27,
   "metadata": {},
   "outputs": [
    {
     "data": {
      "text/plain": [
       "<BarContainer object of 7 artists>"
      ]
     },
     "execution_count": 27,
     "metadata": {},
     "output_type": "execute_result"
    },
    {
     "data": {
      "image/png": "[encoded data removed]",
      "text/plain": [
       "<Figure size 432x288 with 1 Axes>"
      ]
     },
     "metadata": {
      "needs_background": "light"
     },
     "output_type": "display_data"
    }
   ],
   "source": [
    "plt.bar(dayofweek_data_bike[0],dayofweek_data_bike[1])"
   ]
  },
  {
   "cell_type": "code",
   "execution_count": 28,
   "metadata": {},
   "outputs": [],
   "source": [
    "hourofday_data_bike = []\n",
    "\n",
    "for i in range(0,24):\n",
    "    hourofday_data_bike.append([i,bike_data['DATE_BOOKING'].loc[(bike_data['DATE_BOOKING'].dt.hour) == i].count()])\n",
    "\n",
    "hourofday_data_bike = pd.DataFrame(hourofday_data_bike)\n",
    "\n"
   ]
  },
  {
   "cell_type": "code",
   "execution_count": 29,
   "metadata": {
    "scrolled": false
   },
   "outputs": [
    {
     "data": {
      "text/html": [
       "<div>\n",
       "<style scoped>\n",
       "    .dataframe tbody tr th:only-of-type {\n",
       "        vertical-align: middle;\n",
       "    }\n",
       "\n",
       "    .dataframe tbody tr th {\n",
       "        vertical-align: top;\n",
       "    }\n",
       "\n",
       "    .dataframe thead th {\n",
       "        text-align: right;\n",
       "    }\n",
       "</style>\n",
       "<table border=\"1\" class=\"dataframe\">\n",
       "  <thead>\n",
       "    <tr style=\"text-align: right;\">\n",
       "      <th></th>\n",
       "      <th>0</th>\n",
       "      <th>1</th>\n",
       "    </tr>\n",
       "  </thead>\n",
       "  <tbody>\n",
       "    <tr>\n",
       "      <td>0</td>\n",
       "      <td>0</td>\n",
       "      <td>105380</td>\n",
       "    </tr>\n",
       "    <tr>\n",
       "      <td>1</td>\n",
       "      <td>1</td>\n",
       "      <td>78960</td>\n",
       "    </tr>\n",
       "    <tr>\n",
       "      <td>2</td>\n",
       "      <td>2</td>\n",
       "      <td>53020</td>\n",
       "    </tr>\n",
       "    <tr>\n",
       "      <td>3</td>\n",
       "      <td>3</td>\n",
       "      <td>37020</td>\n",
       "    </tr>\n",
       "    <tr>\n",
       "      <td>4</td>\n",
       "      <td>4</td>\n",
       "      <td>26594</td>\n",
       "    </tr>\n",
       "    <tr>\n",
       "      <td>5</td>\n",
       "      <td>5</td>\n",
       "      <td>25537</td>\n",
       "    </tr>\n",
       "    <tr>\n",
       "      <td>6</td>\n",
       "      <td>6</td>\n",
       "      <td>52639</td>\n",
       "    </tr>\n",
       "    <tr>\n",
       "      <td>7</td>\n",
       "      <td>7</td>\n",
       "      <td>167168</td>\n",
       "    </tr>\n",
       "    <tr>\n",
       "      <td>8</td>\n",
       "      <td>8</td>\n",
       "      <td>323568</td>\n",
       "    </tr>\n",
       "    <tr>\n",
       "      <td>9</td>\n",
       "      <td>9</td>\n",
       "      <td>222917</td>\n",
       "    </tr>\n",
       "    <tr>\n",
       "      <td>10</td>\n",
       "      <td>10</td>\n",
       "      <td>164008</td>\n",
       "    </tr>\n",
       "    <tr>\n",
       "      <td>11</td>\n",
       "      <td>11</td>\n",
       "      <td>196812</td>\n",
       "    </tr>\n",
       "    <tr>\n",
       "      <td>12</td>\n",
       "      <td>12</td>\n",
       "      <td>263970</td>\n",
       "    </tr>\n",
       "    <tr>\n",
       "      <td>13</td>\n",
       "      <td>13</td>\n",
       "      <td>291679</td>\n",
       "    </tr>\n",
       "    <tr>\n",
       "      <td>14</td>\n",
       "      <td>14</td>\n",
       "      <td>297401</td>\n",
       "    </tr>\n",
       "    <tr>\n",
       "      <td>15</td>\n",
       "      <td>15</td>\n",
       "      <td>326556</td>\n",
       "    </tr>\n",
       "    <tr>\n",
       "      <td>16</td>\n",
       "      <td>16</td>\n",
       "      <td>376828</td>\n",
       "    </tr>\n",
       "    <tr>\n",
       "      <td>17</td>\n",
       "      <td>17</td>\n",
       "      <td>449673</td>\n",
       "    </tr>\n",
       "    <tr>\n",
       "      <td>18</td>\n",
       "      <td>18</td>\n",
       "      <td>448779</td>\n",
       "    </tr>\n",
       "    <tr>\n",
       "      <td>19</td>\n",
       "      <td>19</td>\n",
       "      <td>341207</td>\n",
       "    </tr>\n",
       "    <tr>\n",
       "      <td>20</td>\n",
       "      <td>20</td>\n",
       "      <td>248339</td>\n",
       "    </tr>\n",
       "    <tr>\n",
       "      <td>21</td>\n",
       "      <td>21</td>\n",
       "      <td>185307</td>\n",
       "    </tr>\n",
       "    <tr>\n",
       "      <td>22</td>\n",
       "      <td>22</td>\n",
       "      <td>154999</td>\n",
       "    </tr>\n",
       "    <tr>\n",
       "      <td>23</td>\n",
       "      <td>23</td>\n",
       "      <td>128783</td>\n",
       "    </tr>\n",
       "  </tbody>\n",
       "</table>\n",
       "</div>"
      ],
      "text/plain": [
       "     0       1\n",
       "0    0  105380\n",
       "1    1   78960\n",
       "2    2   53020\n",
       "3    3   37020\n",
       "4    4   26594\n",
       "5    5   25537\n",
       "6    6   52639\n",
       "7    7  167168\n",
       "8    8  323568\n",
       "9    9  222917\n",
       "10  10  164008\n",
       "11  11  196812\n",
       "12  12  263970\n",
       "13  13  291679\n",
       "14  14  297401\n",
       "15  15  326556\n",
       "16  16  376828\n",
       "17  17  449673\n",
       "18  18  448779\n",
       "19  19  341207\n",
       "20  20  248339\n",
       "21  21  185307\n",
       "22  22  154999\n",
       "23  23  128783"
      ]
     },
     "execution_count": 29,
     "metadata": {},
     "output_type": "execute_result"
    }
   ],
   "source": [
    "hourofday_data_bike"
   ]
  },
  {
   "cell_type": "markdown",
   "metadata": {},
   "source": [
    "# Bike bookings per hour of day"
   ]
  },
  {
   "cell_type": "code",
   "execution_count": 30,
   "metadata": {
    "scrolled": true
   },
   "outputs": [
    {
     "data": {
      "text/plain": [
       "<BarContainer object of 24 artists>"
      ]
     },
     "execution_count": 30,
     "metadata": {},
     "output_type": "execute_result"
    },
    {
     "data": {
      "image/png": "[encoded data removed]",
      "text/plain": [
       "<Figure size 432x288 with 1 Axes>"
      ]
     },
     "metadata": {
      "needs_background": "light"
     },
     "output_type": "display_data"
    }
   ],
   "source": [
    "plt.bar(hourofday_data_bike[0],hourofday_data_bike[1])"
   ]
  },
  {
   "cell_type": "code",
   "execution_count": 31,
   "metadata": {},
   "outputs": [],
   "source": [
    "bike_data['TIME_BOOKED'] = bike_data['DATE_UNTIL'] - bike_data['DATE_FROM']"
   ]
  },
  {
   "cell_type": "code",
   "execution_count": 32,
   "metadata": {},
   "outputs": [
    {
     "data": {
      "text/plain": [
       "count                   4967144\n",
       "mean     0 days 00:24:26.827739\n",
       "std      0 days 03:10:34.307310\n",
       "min             0 days 00:00:01\n",
       "25%             0 days 00:07:22\n",
       "50%             0 days 00:12:48\n",
       "75%             0 days 00:20:53\n",
       "max            92 days 03:57:55\n",
       "Name: TIME_BOOKED, dtype: object"
      ]
     },
     "execution_count": 32,
     "metadata": {},
     "output_type": "execute_result"
    }
   ],
   "source": [
    "bike_data.TIME_BOOKED.describe()"
   ]
  },
  {
   "cell_type": "code",
   "execution_count": 33,
   "metadata": {
    "scrolled": false
   },
   "outputs": [
    {
     "data": {
      "text/plain": [
       "DatetimeIndex(['2014-01-01 00:34:54', '2014-01-01 01:39:55',\n",
       "               '2014-01-01 01:40:20', '2014-01-01 01:56:00',\n",
       "               '2014-01-01 02:05:55', '2014-01-01 02:29:03',\n",
       "               '2014-01-01 03:07:07', '2014-01-01 03:12:50',\n",
       "               '2014-01-01 04:27:51', '2014-01-01 04:58:33',\n",
       "               ...\n",
       "               '2015-12-31 19:38:37', '2015-12-31 20:57:37',\n",
       "               '2015-12-31 23:46:35', '2015-12-31 20:16:35',\n",
       "               '2015-12-31 20:39:33', '2015-12-31 23:15:08',\n",
       "               '2015-12-31 23:28:26', '2015-12-31 22:40:18',\n",
       "               '2015-12-31 23:37:41', '2015-12-31 22:08:26'],\n",
       "              dtype='datetime64[ns]', name='DATE_BOOKING', length=4967144, freq=None)"
      ]
     },
     "execution_count": 33,
     "metadata": {},
     "output_type": "execute_result"
    }
   ],
   "source": [
    "time_booked = bike_data.TIME_BOOKED\n",
    "time_booked.index"
   ]
  },
  {
   "cell_type": "code",
   "execution_count": 34,
   "metadata": {
    "scrolled": true
   },
   "outputs": [
    {
     "data": {
      "text/plain": [
       "DATE_BOOKING\n",
       "2014-01-01 00:34:54   00:15:20\n",
       "2014-01-01 01:39:55   00:17:32\n",
       "2014-01-01 01:40:20   00:12:49\n",
       "2014-01-01 01:56:00   00:00:41\n",
       "2014-01-01 02:05:55   00:07:54\n",
       "                        ...   \n",
       "2015-12-31 23:15:08   00:21:45\n",
       "2015-12-31 23:28:26   00:14:40\n",
       "2015-12-31 22:40:18   00:08:16\n",
       "2015-12-31 23:37:41   00:09:32\n",
       "2015-12-31 22:08:26   00:25:06\n",
       "Name: TIME_BOOKED, Length: 4967144, dtype: timedelta64[ns]"
      ]
     },
     "execution_count": 34,
     "metadata": {},
     "output_type": "execute_result"
    }
   ],
   "source": [
    "time_booked"
   ]
  },
  {
   "cell_type": "code",
   "execution_count": 35,
   "metadata": {},
   "outputs": [],
   "source": [
    "hourofday_data_time = []\n",
    "\n",
    "def integer_to_time_hour(a):\n",
    "    if a < 10:\n",
    "        output = str('0'+str(a)+':00')\n",
    "    else:\n",
    "        output = str(str(a)+':00')\n",
    "    return output\n",
    "    \n",
    "for i in range(0,24):\n",
    "    hourofday_data_time.append([integer_to_time_hour(i),time_booked.loc[(bike_data['DATE_BOOKING'].dt.hour) == i].mean()/ datetime.timedelta(minutes=1)])\n",
    "\n",
    "hourofday_data_time = pd.DataFrame(hourofday_data_time)"
   ]
  },
  {
   "cell_type": "code",
   "execution_count": 36,
   "metadata": {
    "scrolled": true
   },
   "outputs": [
    {
     "data": {
      "text/html": [
       "<div>\n",
       "<style scoped>\n",
       "    .dataframe tbody tr th:only-of-type {\n",
       "        vertical-align: middle;\n",
       "    }\n",
       "\n",
       "    .dataframe tbody tr th {\n",
       "        vertical-align: top;\n",
       "    }\n",
       "\n",
       "    .dataframe thead th {\n",
       "        text-align: right;\n",
       "    }\n",
       "</style>\n",
       "<table border=\"1\" class=\"dataframe\">\n",
       "  <thead>\n",
       "    <tr style=\"text-align: right;\">\n",
       "      <th></th>\n",
       "      <th>0</th>\n",
       "      <th>1</th>\n",
       "    </tr>\n",
       "  </thead>\n",
       "  <tbody>\n",
       "    <tr>\n",
       "      <td>0</td>\n",
       "      <td>00:00</td>\n",
       "      <td>20.527261</td>\n",
       "    </tr>\n",
       "    <tr>\n",
       "      <td>1</td>\n",
       "      <td>01:00</td>\n",
       "      <td>20.708753</td>\n",
       "    </tr>\n",
       "    <tr>\n",
       "      <td>2</td>\n",
       "      <td>02:00</td>\n",
       "      <td>22.985676</td>\n",
       "    </tr>\n",
       "    <tr>\n",
       "      <td>3</td>\n",
       "      <td>03:00</td>\n",
       "      <td>20.776746</td>\n",
       "    </tr>\n",
       "    <tr>\n",
       "      <td>4</td>\n",
       "      <td>04:00</td>\n",
       "      <td>21.219511</td>\n",
       "    </tr>\n",
       "    <tr>\n",
       "      <td>5</td>\n",
       "      <td>05:00</td>\n",
       "      <td>18.389142</td>\n",
       "    </tr>\n",
       "    <tr>\n",
       "      <td>6</td>\n",
       "      <td>06:00</td>\n",
       "      <td>16.689708</td>\n",
       "    </tr>\n",
       "    <tr>\n",
       "      <td>7</td>\n",
       "      <td>07:00</td>\n",
       "      <td>16.932393</td>\n",
       "    </tr>\n",
       "    <tr>\n",
       "      <td>8</td>\n",
       "      <td>08:00</td>\n",
       "      <td>18.283801</td>\n",
       "    </tr>\n",
       "    <tr>\n",
       "      <td>9</td>\n",
       "      <td>09:00</td>\n",
       "      <td>22.087202</td>\n",
       "    </tr>\n",
       "    <tr>\n",
       "      <td>10</td>\n",
       "      <td>10:00</td>\n",
       "      <td>33.612922</td>\n",
       "    </tr>\n",
       "    <tr>\n",
       "      <td>11</td>\n",
       "      <td>11:00</td>\n",
       "      <td>36.729061</td>\n",
       "    </tr>\n",
       "    <tr>\n",
       "      <td>12</td>\n",
       "      <td>12:00</td>\n",
       "      <td>32.461785</td>\n",
       "    </tr>\n",
       "    <tr>\n",
       "      <td>13</td>\n",
       "      <td>13:00</td>\n",
       "      <td>30.114159</td>\n",
       "    </tr>\n",
       "    <tr>\n",
       "      <td>14</td>\n",
       "      <td>14:00</td>\n",
       "      <td>28.843165</td>\n",
       "    </tr>\n",
       "    <tr>\n",
       "      <td>15</td>\n",
       "      <td>15:00</td>\n",
       "      <td>27.365258</td>\n",
       "    </tr>\n",
       "    <tr>\n",
       "      <td>16</td>\n",
       "      <td>16:00</td>\n",
       "      <td>24.024441</td>\n",
       "    </tr>\n",
       "    <tr>\n",
       "      <td>17</td>\n",
       "      <td>17:00</td>\n",
       "      <td>22.773430</td>\n",
       "    </tr>\n",
       "    <tr>\n",
       "      <td>18</td>\n",
       "      <td>18:00</td>\n",
       "      <td>23.069351</td>\n",
       "    </tr>\n",
       "    <tr>\n",
       "      <td>19</td>\n",
       "      <td>19:00</td>\n",
       "      <td>22.727006</td>\n",
       "    </tr>\n",
       "    <tr>\n",
       "      <td>20</td>\n",
       "      <td>20:00</td>\n",
       "      <td>21.781088</td>\n",
       "    </tr>\n",
       "    <tr>\n",
       "      <td>21</td>\n",
       "      <td>21:00</td>\n",
       "      <td>21.615620</td>\n",
       "    </tr>\n",
       "    <tr>\n",
       "      <td>22</td>\n",
       "      <td>22:00</td>\n",
       "      <td>20.296094</td>\n",
       "    </tr>\n",
       "    <tr>\n",
       "      <td>23</td>\n",
       "      <td>23:00</td>\n",
       "      <td>19.360860</td>\n",
       "    </tr>\n",
       "  </tbody>\n",
       "</table>\n",
       "</div>"
      ],
      "text/plain": [
       "        0          1\n",
       "0   00:00  20.527261\n",
       "1   01:00  20.708753\n",
       "2   02:00  22.985676\n",
       "3   03:00  20.776746\n",
       "4   04:00  21.219511\n",
       "5   05:00  18.389142\n",
       "6   06:00  16.689708\n",
       "7   07:00  16.932393\n",
       "8   08:00  18.283801\n",
       "9   09:00  22.087202\n",
       "10  10:00  33.612922\n",
       "11  11:00  36.729061\n",
       "12  12:00  32.461785\n",
       "13  13:00  30.114159\n",
       "14  14:00  28.843165\n",
       "15  15:00  27.365258\n",
       "16  16:00  24.024441\n",
       "17  17:00  22.773430\n",
       "18  18:00  23.069351\n",
       "19  19:00  22.727006\n",
       "20  20:00  21.781088\n",
       "21  21:00  21.615620\n",
       "22  22:00  20.296094\n",
       "23  23:00  19.360860"
      ]
     },
     "execution_count": 36,
     "metadata": {},
     "output_type": "execute_result"
    }
   ],
   "source": [
    "hourofday_data_time"
   ]
  },
  {
   "cell_type": "markdown",
   "metadata": {},
   "source": [
    "# Average length of booking in minutes per hour of day"
   ]
  },
  {
   "cell_type": "code",
   "execution_count": 37,
   "metadata": {
    "scrolled": true
   },
   "outputs": [
    {
     "data": {
      "text/plain": [
       "<BarContainer object of 24 artists>"
      ]
     },
     "execution_count": 37,
     "metadata": {},
     "output_type": "execute_result"
    },
    {
     "data": {
      "image/png": "[encoded data removed]",
      "text/plain": [
       "<Figure size 432x288 with 1 Axes>"
      ]
     },
     "metadata": {
      "needs_background": "light"
     },
     "output_type": "display_data"
    }
   ],
   "source": [
    "plt.bar(hourofday_data_time.index,hourofday_data_time[1])"
   ]
  },
  {
   "cell_type": "code",
   "execution_count": 38,
   "metadata": {},
   "outputs": [],
   "source": [
    "dayofweek_data_time = []\n",
    "\n",
    "for i in range(0,7):\n",
    "    dayofweek_data_time.append([i,time_booked.loc[(bike_data['DATE_BOOKING'].dt.dayofweek) == i].mean()\n",
    "                                / datetime.timedelta(minutes=1)])\n",
    "\n",
    "dayofweek_data_time = pd.DataFrame(dayofweek_data_time)"
   ]
  },
  {
   "cell_type": "code",
   "execution_count": 39,
   "metadata": {},
   "outputs": [
    {
     "data": {
      "text/html": [
       "<div>\n",
       "<style scoped>\n",
       "    .dataframe tbody tr th:only-of-type {\n",
       "        vertical-align: middle;\n",
       "    }\n",
       "\n",
       "    .dataframe tbody tr th {\n",
       "        vertical-align: top;\n",
       "    }\n",
       "\n",
       "    .dataframe thead th {\n",
       "        text-align: right;\n",
       "    }\n",
       "</style>\n",
       "<table border=\"1\" class=\"dataframe\">\n",
       "  <thead>\n",
       "    <tr style=\"text-align: right;\">\n",
       "      <th></th>\n",
       "      <th>0</th>\n",
       "      <th>1</th>\n",
       "      <th>2</th>\n",
       "    </tr>\n",
       "  </thead>\n",
       "  <tbody>\n",
       "    <tr>\n",
       "      <td>0</td>\n",
       "      <td>0</td>\n",
       "      <td>21.416573</td>\n",
       "      <td>Mon</td>\n",
       "    </tr>\n",
       "    <tr>\n",
       "      <td>1</td>\n",
       "      <td>1</td>\n",
       "      <td>21.268400</td>\n",
       "      <td>Tue</td>\n",
       "    </tr>\n",
       "    <tr>\n",
       "      <td>2</td>\n",
       "      <td>2</td>\n",
       "      <td>21.392258</td>\n",
       "      <td>Wed</td>\n",
       "    </tr>\n",
       "    <tr>\n",
       "      <td>3</td>\n",
       "      <td>3</td>\n",
       "      <td>22.537333</td>\n",
       "      <td>Thu</td>\n",
       "    </tr>\n",
       "    <tr>\n",
       "      <td>4</td>\n",
       "      <td>4</td>\n",
       "      <td>24.741184</td>\n",
       "      <td>Fri</td>\n",
       "    </tr>\n",
       "    <tr>\n",
       "      <td>5</td>\n",
       "      <td>5</td>\n",
       "      <td>31.717097</td>\n",
       "      <td>Sat</td>\n",
       "    </tr>\n",
       "    <tr>\n",
       "      <td>6</td>\n",
       "      <td>6</td>\n",
       "      <td>29.272269</td>\n",
       "      <td>Sun</td>\n",
       "    </tr>\n",
       "  </tbody>\n",
       "</table>\n",
       "</div>"
      ],
      "text/plain": [
       "   0          1    2\n",
       "0  0  21.416573  Mon\n",
       "1  1  21.268400  Tue\n",
       "2  2  21.392258  Wed\n",
       "3  3  22.537333  Thu\n",
       "4  4  24.741184  Fri\n",
       "5  5  31.717097  Sat\n",
       "6  6  29.272269  Sun"
      ]
     },
     "execution_count": 39,
     "metadata": {},
     "output_type": "execute_result"
    }
   ],
   "source": [
    "dayofweek_data_time[2] = ['Mon', 'Tue', 'Wed', 'Thu', 'Fri', 'Sat', 'Sun']\n",
    "dayofweek_data_time"
   ]
  },
  {
   "cell_type": "markdown",
   "metadata": {},
   "source": [
    "# Average length of booking per day of week"
   ]
  },
  {
   "cell_type": "code",
   "execution_count": 40,
   "metadata": {
    "scrolled": true
   },
   "outputs": [
    {
     "data": {
      "text/plain": [
       "<BarContainer object of 7 artists>"
      ]
     },
     "execution_count": 40,
     "metadata": {},
     "output_type": "execute_result"
    },
    {
     "data": {
      "image/png": "[encoded data removed]",
      "text/plain": [
       "<Figure size 432x288 with 1 Axes>"
      ]
     },
     "metadata": {
      "needs_background": "light"
     },
     "output_type": "display_data"
    }
   ],
   "source": [
    "plt.bar(dayofweek_data_time[2],dayofweek_data_time[1])"
   ]
  },
  {
   "cell_type": "code",
   "execution_count": 41,
   "metadata": {
    "scrolled": true
   },
   "outputs": [
    {
     "data": {
      "text/html": [
       "<div>\n",
       "<style scoped>\n",
       "    .dataframe tbody tr th:only-of-type {\n",
       "        vertical-align: middle;\n",
       "    }\n",
       "\n",
       "    .dataframe tbody tr th {\n",
       "        vertical-align: top;\n",
       "    }\n",
       "\n",
       "    .dataframe thead th {\n",
       "        text-align: right;\n",
       "    }\n",
       "</style>\n",
       "<table border=\"1\" class=\"dataframe\">\n",
       "  <thead>\n",
       "    <tr style=\"text-align: right;\">\n",
       "      <th></th>\n",
       "      <th>0</th>\n",
       "      <th>1</th>\n",
       "    </tr>\n",
       "  </thead>\n",
       "  <tbody>\n",
       "    <tr>\n",
       "      <td>0</td>\n",
       "      <td>1</td>\n",
       "      <td>19.361096</td>\n",
       "    </tr>\n",
       "    <tr>\n",
       "      <td>1</td>\n",
       "      <td>2</td>\n",
       "      <td>21.269169</td>\n",
       "    </tr>\n",
       "    <tr>\n",
       "      <td>2</td>\n",
       "      <td>3</td>\n",
       "      <td>22.194142</td>\n",
       "    </tr>\n",
       "    <tr>\n",
       "      <td>3</td>\n",
       "      <td>4</td>\n",
       "      <td>24.621341</td>\n",
       "    </tr>\n",
       "    <tr>\n",
       "      <td>4</td>\n",
       "      <td>5</td>\n",
       "      <td>26.576400</td>\n",
       "    </tr>\n",
       "    <tr>\n",
       "      <td>5</td>\n",
       "      <td>6</td>\n",
       "      <td>25.722896</td>\n",
       "    </tr>\n",
       "    <tr>\n",
       "      <td>6</td>\n",
       "      <td>7</td>\n",
       "      <td>26.740298</td>\n",
       "    </tr>\n",
       "    <tr>\n",
       "      <td>7</td>\n",
       "      <td>8</td>\n",
       "      <td>28.271142</td>\n",
       "    </tr>\n",
       "    <tr>\n",
       "      <td>8</td>\n",
       "      <td>9</td>\n",
       "      <td>24.405386</td>\n",
       "    </tr>\n",
       "    <tr>\n",
       "      <td>9</td>\n",
       "      <td>10</td>\n",
       "      <td>22.857207</td>\n",
       "    </tr>\n",
       "    <tr>\n",
       "      <td>10</td>\n",
       "      <td>11</td>\n",
       "      <td>21.072599</td>\n",
       "    </tr>\n",
       "    <tr>\n",
       "      <td>11</td>\n",
       "      <td>12</td>\n",
       "      <td>19.950981</td>\n",
       "    </tr>\n",
       "  </tbody>\n",
       "</table>\n",
       "</div>"
      ],
      "text/plain": [
       "     0          1\n",
       "0    1  19.361096\n",
       "1    2  21.269169\n",
       "2    3  22.194142\n",
       "3    4  24.621341\n",
       "4    5  26.576400\n",
       "5    6  25.722896\n",
       "6    7  26.740298\n",
       "7    8  28.271142\n",
       "8    9  24.405386\n",
       "9   10  22.857207\n",
       "10  11  21.072599\n",
       "11  12  19.950981"
      ]
     },
     "execution_count": 41,
     "metadata": {},
     "output_type": "execute_result"
    }
   ],
   "source": [
    "monthly_data_time = []\n",
    "\n",
    "for i in range(1,13):\n",
    "    monthly_data_time.append([i,time_booked.loc[(bike_data['DATE_BOOKING'].dt.month) == i].mean()\n",
    "                             / datetime.timedelta(minutes=1)])\n",
    "\n",
    "monthly_data_time = pd.DataFrame(monthly_data_time)\n",
    "\n",
    "monthly_data_time"
   ]
  },
  {
   "cell_type": "code",
   "execution_count": 42,
   "metadata": {},
   "outputs": [],
   "source": [
    "# Average length of booking per month"
   ]
  },
  {
   "cell_type": "code",
   "execution_count": 43,
   "metadata": {
    "scrolled": true
   },
   "outputs": [
    {
     "data": {
      "text/plain": [
       "<BarContainer object of 12 artists>"
      ]
     },
     "execution_count": 43,
     "metadata": {},
     "output_type": "execute_result"
    },
    {
     "data": {
      "image/png": "[encoded data removed]",
      "text/plain": [
       "<Figure size 432x288 with 1 Axes>"
      ]
     },
     "metadata": {
      "needs_background": "light"
     },
     "output_type": "display_data"
    }
   ],
   "source": [
    "plt.bar(monthly_data_time[0],monthly_data_time[1])"
   ]
  },
  {
   "cell_type": "code",
   "execution_count": 44,
   "metadata": {},
   "outputs": [],
   "source": [
    "# Mean start time day of week"
   ]
  },
  {
   "cell_type": "code",
   "execution_count": 45,
   "metadata": {
    "scrolled": true
   },
   "outputs": [
    {
     "data": {
      "text/plain": [
       "DATE_BOOKING\n",
       "2014-01-01 00:34:54   00:15:20\n",
       "2014-01-01 01:39:55   00:17:32\n",
       "2014-01-01 01:40:20   00:12:49\n",
       "2014-01-01 01:56:00   00:00:41\n",
       "2014-01-01 02:05:55   00:07:54\n",
       "                        ...   \n",
       "2015-12-31 23:15:08   00:21:45\n",
       "2015-12-31 23:28:26   00:14:40\n",
       "2015-12-31 22:40:18   00:08:16\n",
       "2015-12-31 23:37:41   00:09:32\n",
       "2015-12-31 22:08:26   00:25:06\n",
       "Name: TIME_BOOKED, Length: 4967144, dtype: timedelta64[ns]"
      ]
     },
     "execution_count": 45,
     "metadata": {},
     "output_type": "execute_result"
    }
   ],
   "source": [
    "time_booked"
   ]
  },
  {
   "cell_type": "markdown",
   "metadata": {},
   "source": [
    "# Average Booking Start Time per Week (in hours)"
   ]
  },
  {
   "cell_type": "code",
   "execution_count": 46,
   "metadata": {
    "scrolled": true
   },
   "outputs": [
    {
     "data": {
      "image/png": "[encoded data removed]",
      "text/plain": [
       "<Figure size 432x288 with 1 Axes>"
      ]
     },
     "metadata": {
      "needs_background": "light"
     },
     "output_type": "display_data"
    }
   ],
   "source": [
    "dayofweek_mean = []\n",
    "daysofweek = ['Mon', 'Tue', 'Wed', 'Thu', 'Fri', 'Sat', 'Sun']\n",
    "\n",
    "for i in range(0,7):\n",
    "    dayofweek_mean.append(bike_data['DATE_FROM'].loc[(bike_data['DATE_FROM'].dt.dayofweek) == i])\n",
    "\n",
    "dayofweek_averages = []\n",
    "avg = 0\n",
    "\n",
    "for i in range(0,7):\n",
    "    for elem in dayofweek_mean[i]:\n",
    "        avg += (elem.hour*3600+elem.minute*60+elem.second)\n",
    "    dayofweek_averages.append(avg/len(dayofweek_mean[i])/60/60)\n",
    "    avg = 0\n",
    "\n",
    "dayofweek_averages = pd.Series(dayofweek_averages)\n",
    "\n",
    "plt.bar(daysofweek, dayofweek_averages)\n",
    "plt.axis([-0.5,6.5,13.5, 15])\n",
    "plt.title('Average start time per week')\n",
    "plt.show()"
   ]
  },
  {
   "cell_type": "markdown",
   "metadata": {},
   "source": [
    "# Average Start Time per Month (in hours)"
   ]
  },
  {
   "cell_type": "code",
   "execution_count": 47,
   "metadata": {},
   "outputs": [
    {
     "data": {
      "image/png": "[encoded data removed]",
      "text/plain": [
       "<Figure size 432x288 with 1 Axes>"
      ]
     },
     "metadata": {
      "needs_background": "light"
     },
     "output_type": "display_data"
    }
   ],
   "source": [
    "monthly_mean = []\n",
    "months = ['Jan', 'Feb', 'Mar', 'Apr', 'May', 'Jun', 'Jul', 'Aug', 'Sep', 'Oct', 'Nov', 'Dec']\n",
    "\n",
    "for i in range(1,13):\n",
    "    monthly_mean.append(bike_data['DATE_FROM'].loc[(bike_data['DATE_FROM'].dt.month) == i])\n",
    "\n",
    "monthly_averages = []\n",
    "avg = 0\n",
    "\n",
    "for i in range(0,12):\n",
    "    for elem in monthly_mean[i]:\n",
    "        avg += (elem.hour*3600+elem.minute*60+elem.second)\n",
    "    monthly_averages.append(avg/len(monthly_mean[i])/60/60)\n",
    "    avg = 0\n",
    "\n",
    "monthly_averages = pd.Series(monthly_averages)\n",
    "\n",
    "plt.bar(months, monthly_averages)\n",
    "plt.axis([-0.5,12,13.5, 15])\n",
    "plt.title('Average start time per month')\n",
    "plt.show()"
   ]
  },
  {
   "cell_type": "markdown",
   "metadata": {},
   "source": [
    "# Patterns Start and End Location"
   ]
  },
  {
   "cell_type": "code",
   "execution_count": 48,
   "metadata": {},
   "outputs": [],
   "source": [
    "bike_data = bike_data.reset_index(drop=True)\n",
    "\n",
    "unique_start_location = pd.Series(bike_data.START_RENTAL_ZONE.unique())\n",
    "unique_end_location = pd.Series(bike_data.END_RENTAL_ZONE.unique())"
   ]
  },
  {
   "cell_type": "code",
   "execution_count": 49,
   "metadata": {},
   "outputs": [],
   "source": [
    "unique_end_location = unique_end_location.sort_values()"
   ]
  },
  {
   "cell_type": "code",
   "execution_count": null,
   "metadata": {},
   "outputs": [],
   "source": []
  },
  {
   "cell_type": "code",
   "execution_count": null,
   "metadata": {},
   "outputs": [],
   "source": []
  },
  {
   "cell_type": "code",
   "execution_count": 50,
   "metadata": {},
   "outputs": [
    {
     "data": {
      "text/plain": [
       "count                      4967003\n",
       "unique                         188\n",
       "top       Allende-Platz/Grindelhof\n",
       "freq                        108582\n",
       "Name: START_RENTAL_ZONE, dtype: object"
      ]
     },
     "execution_count": 50,
     "metadata": {},
     "output_type": "execute_result"
    }
   ],
   "source": [
    "bike_data['START_RENTAL_ZONE'].describe()"
   ]
  },
  {
   "cell_type": "code",
   "execution_count": 51,
   "metadata": {},
   "outputs": [],
   "source": [
    "bike_data.index = bike_data.DATE_FROM"
   ]
  },
  {
   "cell_type": "code",
   "execution_count": 52,
   "metadata": {},
   "outputs": [],
   "source": [
    "start_rental_zone = pd.Series(bike_data.groupby('START_RENTAL_ZONE')['DATE_BOOKING'].count())"
   ]
  },
  {
   "cell_type": "code",
   "execution_count": 53,
   "metadata": {
    "scrolled": true
   },
   "outputs": [
    {
     "data": {
      "text/plain": [
       "START_RENTAL_ZONE\n",
       "Allende-Platz/Grindelhof                 108582\n",
       "Schulterblatt/Eifflerstraße               97741\n",
       "Jungfernstieg / Ballindamm                77697\n",
       "Goldbekplatz / Semperstraße               76981\n",
       "Neuer Pferdemarkt / Beim Grünen Jäger     75337\n",
       "Jarrestraße / Rambatzweg                  73937\n",
       "Mundsburg / Schürbeker Straße             73518\n",
       "Lange Reihe / Lohmühlenpark               72334\n",
       "Eduard-Rhein-Ufer / Schwanenwik           71488\n",
       "Landungsbrücke/Hafentor                   71348\n",
       "Name: DATE_BOOKING, dtype: int64"
      ]
     },
     "execution_count": 53,
     "metadata": {},
     "output_type": "execute_result"
    }
   ],
   "source": [
    "start_rental_zone.sort_values(ascending = False)[0:10]"
   ]
  },
  {
   "cell_type": "markdown",
   "metadata": {},
   "source": [
    "<img src=\"hamburg_most_used_start_locations.png\">"
   ]
  },
  {
   "cell_type": "code",
   "execution_count": 54,
   "metadata": {},
   "outputs": [],
   "source": [
    "end_rental_zone = pd.Series(bike_data.groupby('END_RENTAL_ZONE')['DATE_BOOKING'].count())"
   ]
  },
  {
   "cell_type": "code",
   "execution_count": 55,
   "metadata": {},
   "outputs": [
    {
     "data": {
      "text/plain": [
       "END_RENTAL_ZONE\n",
       "Allende-Platz/Grindelhof                 109754\n",
       "Schulterblatt/Eifflerstraße               97680\n",
       "Jungfernstieg / Ballindamm                81811\n",
       "Landungsbrücke/Hafentor                   79233\n",
       "Goldbekplatz / Semperstraße               77748\n",
       "Jarrestraße / Rambatzweg                  75641\n",
       "Neuer Pferdemarkt / Beim Grünen Jäger     75390\n",
       "Mundsburg / Schürbeker Straße             73663\n",
       "Eduard-Rhein-Ufer / Schwanenwik           72802\n",
       "Lange Reihe / Lohmühlenpark               72602\n",
       "Name: DATE_BOOKING, dtype: int64"
      ]
     },
     "execution_count": 55,
     "metadata": {},
     "output_type": "execute_result"
    }
   ],
   "source": [
    "end_rental_zone.sort_values(ascending = False)[0:10]"
   ]
  },
  {
   "cell_type": "code",
   "execution_count": 56,
   "metadata": {
    "scrolled": true
   },
   "outputs": [
    {
     "data": {
      "text/plain": [
       "START_RENTAL_ZONE\n",
       "Landungsbrücke/Hafentor                  1960 days 05:19:26\n",
       "Schulterblatt/Eifflerstraße              1523 days 03:37:00\n",
       "Allende-Platz/Grindelhof                 1520 days 20:39:42\n",
       "Jungfernstieg / Neuer Jungfernstieg      1453 days 05:46:06\n",
       "Jungfernstieg / Ballindamm               1443 days 08:35:35\n",
       "Hauptbahnhof Ost / Hachmannplatz         1421 days 08:40:08\n",
       "Hauptbahnhof West / Glockengießer Wall   1385 days 20:50:04\n",
       "Goldbekplatz / Semperstraße              1374 days 07:44:36\n",
       "Eduard-Rhein-Ufer / Schwanenwik          1251 days 16:45:05\n",
       "Jarrestraße / Rambatzweg                 1230 days 14:08:04\n",
       "Name: TIME_BOOKED, dtype: timedelta64[ns]"
      ]
     },
     "execution_count": 56,
     "metadata": {},
     "output_type": "execute_result"
    }
   ],
   "source": [
    "bike_data.groupby('START_RENTAL_ZONE')['TIME_BOOKED'].sum().sort_values(ascending=False)[0:10]"
   ]
  },
  {
   "cell_type": "code",
   "execution_count": 57,
   "metadata": {},
   "outputs": [],
   "source": [
    "location_patterns = pd.DataFrame({\n",
    "    'START+END': bike_data.START_RENTAL_ZONE+'-->'+bike_data.END_RENTAL_ZONE,\n",
    "    'TIME' : bike_data.TIME_BOOKED\n",
    "})"
   ]
  },
  {
   "cell_type": "code",
   "execution_count": 58,
   "metadata": {},
   "outputs": [
    {
     "data": {
      "text/plain": [
       "START+END\n",
       "Landungsbrücke/Hafentor-->Landungsbrücke/Hafentor                                 384 days 13:43:36\n",
       "BSCTerminal FFM 2.OG R 2.21-->BSCTerminal FFM 2.OG R 2.21                         305 days 04:55:34\n",
       "Goldbekplatz / Semperstraße-->Goldbekplatz / Semperstraße                         245 days 04:32:30\n",
       "Funkbox-BSC-HH-->Funkbox-BSC-HH                                                   212 days 14:26:54\n",
       "Kümmellstraße / Robert-Koch-Straße-->Kümmellstraße / Robert-Koch-Straße           207 days 09:17:59\n",
       "Methfesselstraße/Luruper Weg-->Methfesselstraße/Luruper Weg                       204 days 10:22:06\n",
       "Jungfernstieg / Neuer Jungfernstieg-->Jungfernstieg / Neuer Jungfernstieg         192 days 14:10:24\n",
       "Horner Rennbahn/ Meurer Weg-->Funkbox-BSC-HH                                      192 days 02:44:11\n",
       "Hauptbahnhof Ost / Hachmannplatz-->Hauptbahnhof Ost / Hachmannplatz               189 days 09:48:07\n",
       "Eduard-Rhein-Ufer / Schwanenwik-->Eduard-Rhein-Ufer / Schwanenwik                 183 days 18:04:17\n",
       "Allende-Platz/Grindelhof-->Allende-Platz/Grindelhof                               182 days 18:11:15\n",
       "Jarrestraße / Rambatzweg-->Jarrestraße / Rambatzweg                               177 days 03:21:36\n",
       "Mannesallee/Veringstraße-->Mannesallee/Veringstraße                               173 days 04:37:28\n",
       "Bebelallee/Meenkwiese-->Bebelallee/Meenkwiese                                     168 days 06:38:24\n",
       "Hauptbahnhof West / Glockengießer Wall-->Hauptbahnhof West / Glockengießer Wall   167 days 01:44:13\n",
       "Osakaallee/Übersee Quartier-->Osakaallee/Übersee Quartier                         161 days 23:15:29\n",
       "Schulterblatt/Eifflerstraße-->Schulterblatt/Eifflerstraße                         158 days 03:03:41\n",
       "Lange Reihe / Lohmühlenpark-->Lange Reihe / Lohmühlenpark                         154 days 15:36:04\n",
       "Alsenstraße/Düppelstraße-->Alsenstraße/Düppelstraße                               150 days 22:28:34\n",
       "Jungfernstieg / Ballindamm-->Jungfernstieg / Ballindamm                           143 days 22:25:45\n",
       "Name: TIME, dtype: timedelta64[ns]"
      ]
     },
     "execution_count": 58,
     "metadata": {},
     "output_type": "execute_result"
    }
   ],
   "source": [
    "location_patterns.groupby('START+END')['TIME'].sum().sort_values(ascending= False)[0:20]"
   ]
  },
  {
   "cell_type": "code",
   "execution_count": 59,
   "metadata": {},
   "outputs": [
    {
     "data": {
      "text/plain": [
       "<BarContainer object of 7 artists>"
      ]
     },
     "execution_count": 59,
     "metadata": {},
     "output_type": "execute_result"
    },
    {
     "data": {
      "image/png": "[encoded data removed]",
      "text/plain": [
       "<Figure size 432x288 with 1 Axes>"
      ]
     },
     "metadata": {
      "needs_background": "light"
     },
     "output_type": "display_data"
    }
   ],
   "source": [
    "time_intervals = ['0-10m', '10-20m', '20-30m', '30-40m', '40-50m', '50-60m', '60m+']\n",
    "time_intervals_count = [bike_data[bike_data['TIME_BOOKED'] <= pd.Timedelta(10, unit='m')].count()[0],\n",
    "                        bike_data[(bike_data['TIME_BOOKED'] > pd.Timedelta(10, unit='m')) &\n",
    "                                 (bike_data['TIME_BOOKED'] <= pd.Timedelta(20, unit='m'))].count()[0],\n",
    "                        bike_data[(bike_data['TIME_BOOKED'] > pd.Timedelta(20, unit='m')) &\n",
    "                                 (bike_data['TIME_BOOKED'] <= pd.Timedelta(30, unit='m'))].count()[0],\n",
    "                        bike_data[(bike_data['TIME_BOOKED'] > pd.Timedelta(30, unit='m')) &\n",
    "                                 (bike_data['TIME_BOOKED'] <= pd.Timedelta(40, unit='m'))].count()[0],\n",
    "                        bike_data[(bike_data['TIME_BOOKED'] > pd.Timedelta(40, unit='m')) &\n",
    "                                 (bike_data['TIME_BOOKED'] <= pd.Timedelta(50, unit='m'))].count()[0],\n",
    "                        bike_data[(bike_data['TIME_BOOKED'] > pd.Timedelta(50, unit='m')) &\n",
    "                                 (bike_data['TIME_BOOKED'] <= pd.Timedelta(60, unit='m'))].count()[0],\n",
    "                        bike_data[bike_data['TIME_BOOKED'] > pd.Timedelta(60, unit='m')].count()[0]]\n",
    "\n",
    "time_intervals_data = pd.DataFrame({'TIME_INTERVAL': time_intervals,\n",
    "                                    'COUNT': time_intervals_count})\n",
    "\n",
    "plt.bar(time_intervals_data['TIME_INTERVAL'], time_intervals_data['COUNT'])"
   ]
  },
  {
   "cell_type": "code",
   "execution_count": 60,
   "metadata": {
    "scrolled": false
   },
   "outputs": [
    {
     "data": {
      "text/plain": [
       "<BarContainer object of 7 artists>"
      ]
     },
     "execution_count": 60,
     "metadata": {},
     "output_type": "execute_result"
    },
    {
     "data": {
      "image/png": "[encoded data removed]",
      "text/plain": [
       "<Figure size 432x288 with 1 Axes>"
      ]
     },
     "metadata": {
      "needs_background": "light"
     },
     "output_type": "display_data"
    }
   ],
   "source": [
    "time_intervals_detailed = ['0-3m', '3-6m', '6-9m', '9-12m', '12-15m', '15-18m', '18-20m']\n",
    "time_intervals_detailed_count = [bike_data[bike_data['TIME_BOOKED'] <= pd.Timedelta(3, unit='m')].count()[0],\n",
    "                        bike_data[(bike_data['TIME_BOOKED'] > pd.Timedelta(3, unit='m')) &\n",
    "                                 (bike_data['TIME_BOOKED'] <= pd.Timedelta(6, unit='m'))].count()[0],\n",
    "                        bike_data[(bike_data['TIME_BOOKED'] > pd.Timedelta(6, unit='m')) &\n",
    "                                 (bike_data['TIME_BOOKED'] <= pd.Timedelta(9, unit='m'))].count()[0],\n",
    "                        bike_data[(bike_data['TIME_BOOKED'] > pd.Timedelta(9, unit='m')) &\n",
    "                                 (bike_data['TIME_BOOKED'] <= pd.Timedelta(12, unit='m'))].count()[0],\n",
    "                        bike_data[(bike_data['TIME_BOOKED'] > pd.Timedelta(12, unit='m')) &\n",
    "                                 (bike_data['TIME_BOOKED'] <= pd.Timedelta(15, unit='m'))].count()[0],\n",
    "                        bike_data[(bike_data['TIME_BOOKED'] > pd.Timedelta(15, unit='m')) &\n",
    "                                 (bike_data['TIME_BOOKED'] <= pd.Timedelta(18, unit='m'))].count()[0],\n",
    "                        bike_data[(bike_data['TIME_BOOKED'] > pd.Timedelta(18, unit='m')) &\n",
    "                                 (bike_data['TIME_BOOKED'] <= pd.Timedelta(20, unit='m'))].count()[0]]\n",
    "\n",
    "time_intervals_detailed_data = pd.DataFrame({'TIME_INTERVAL': time_intervals_detailed,\n",
    "                                    'COUNT': time_intervals_detailed_count})\n",
    "\n",
    "plt.bar(time_intervals_detailed_data['TIME_INTERVAL'], time_intervals_detailed_data['COUNT'])"
   ]
  },
  {
   "cell_type": "markdown",
   "metadata": {},
   "source": [
    "Most bookings tend to be under an hour. <br>\n",
    "There are only <b>3.8%</b> (188863 / 4967144 = 0.038) bookings which lasted <b>over one hour</b>. <br>\n",
    "<b>38.7%</b> of bookings were used <b>0-10 min</b> which is the highest count using 10min intervals ( 1879106 / 4967144 = 0.378 = 37.8%). <br>\n",
    "More specifically going into smaller 3 minute intervals under 20min time booked, the most used interval is the <b>6-9min</b> range with <b>14.8%</b> of all bookings (734036 / 4967144 = 0.148).<br>\n",
    "Zero to twenty minutes of time booked is the majority with <b>72.9%</b> ((1879106+1743423) / 4967144 = 0.729)."
   ]
  },
  {
   "cell_type": "code",
   "execution_count": 61,
   "metadata": {},
   "outputs": [
    {
     "data": {
      "text/plain": [
       "[1879106, 1743423, 778203, 241305, 89781, 46463, 188863]"
      ]
     },
     "execution_count": 61,
     "metadata": {},
     "output_type": "execute_result"
    }
   ],
   "source": [
    "time_intervals_count"
   ]
  },
  {
   "cell_type": "markdown",
   "metadata": {},
   "source": [
    "# Cluster Analysis"
   ]
  },
  {
   "cell_type": "code",
   "execution_count": 133,
   "metadata": {},
   "outputs": [],
   "source": [
    "from sklearn.cluster import KMeans\n",
    "from sklearn.preprocessing import StandardScaler\n",
    "import seaborn as sns"
   ]
  },
  {
   "cell_type": "code",
   "execution_count": 137,
   "metadata": {
    "scrolled": true
   },
   "outputs": [
    {
     "data": {
      "text/html": [
       "<div>\n",
       "<style scoped>\n",
       "    .dataframe tbody tr th:only-of-type {\n",
       "        vertical-align: middle;\n",
       "    }\n",
       "\n",
       "    .dataframe tbody tr th {\n",
       "        vertical-align: top;\n",
       "    }\n",
       "\n",
       "    .dataframe thead th {\n",
       "        text-align: right;\n",
       "    }\n",
       "</style>\n",
       "<table border=\"1\" class=\"dataframe\">\n",
       "  <thead>\n",
       "    <tr style=\"text-align: right;\">\n",
       "      <th></th>\n",
       "      <th>START</th>\n",
       "      <th>LENGTH</th>\n",
       "      <th>LOCATION_START</th>\n",
       "    </tr>\n",
       "  </thead>\n",
       "  <tbody>\n",
       "    <tr>\n",
       "      <td>0</td>\n",
       "      <td>-2.589747</td>\n",
       "      <td>-0.047823</td>\n",
       "      <td>-1.505877</td>\n",
       "    </tr>\n",
       "    <tr>\n",
       "      <td>1</td>\n",
       "      <td>-2.389338</td>\n",
       "      <td>-0.036279</td>\n",
       "      <td>-1.480765</td>\n",
       "    </tr>\n",
       "    <tr>\n",
       "      <td>2</td>\n",
       "      <td>-2.386254</td>\n",
       "      <td>-0.061029</td>\n",
       "      <td>-1.455653</td>\n",
       "    </tr>\n",
       "    <tr>\n",
       "      <td>3</td>\n",
       "      <td>-2.336923</td>\n",
       "      <td>-0.124697</td>\n",
       "      <td>-1.430540</td>\n",
       "    </tr>\n",
       "    <tr>\n",
       "      <td>4</td>\n",
       "      <td>-2.309174</td>\n",
       "      <td>-0.086829</td>\n",
       "      <td>-1.405428</td>\n",
       "    </tr>\n",
       "  </tbody>\n",
       "</table>\n",
       "</div>"
      ],
      "text/plain": [
       "      START    LENGTH  LOCATION_START\n",
       "0 -2.589747 -0.047823       -1.505877\n",
       "1 -2.389338 -0.036279       -1.480765\n",
       "2 -2.386254 -0.061029       -1.455653\n",
       "3 -2.336923 -0.124697       -1.430540\n",
       "4 -2.309174 -0.086829       -1.405428"
      ]
     },
     "execution_count": 137,
     "metadata": {},
     "output_type": "execute_result"
    }
   ],
   "source": [
    "locations_dict = dict()\n",
    "i = 1\n",
    "for item in bike_data['START_RENTAL_ZONE'].unique():\n",
    "    locations_dict[item] = i\n",
    "    i += 1\n",
    "\n",
    "X = pd.DataFrame({\n",
    "    'START' : (bike_data['DATE_FROM'].dt.hour)*60+(bike_data['DATE_FROM'].dt.minute),\n",
    "    'LENGTH': bike_data['TIME_BOOKED'] / datetime.timedelta(minutes = 1),\n",
    "    'LOCATION_START' : bike_data['START_RENTAL_ZONE']})\n",
    "\n",
    "X['LOCATION_START']= X['LOCATION_START'].map(locations_dict) \n",
    "X.dropna(axis = 0)\n",
    "\n",
    "scaler = StandardScaler()\n",
    "scaler.fit(X)\n",
    "X_scaled = scaler.transform(X)\n",
    "X_scaled_df = pd.DataFrame(X_scaled, columns=X.columns, index=X.index)\n",
    "X_scaled_df = X_scaled_df.reset_index(drop=True)\n",
    "X_scaled_df.head()"
   ]
  },
  {
   "cell_type": "code",
   "execution_count": 138,
   "metadata": {},
   "outputs": [],
   "source": [
    "k_max = 50\n",
    "clusters = []\n",
    "losses = []\n",
    "\n",
    "def run_k_loop():\n",
    "    for k in range(k_max):\n",
    "        model = KMeans(n_clusters=k+1)\n",
    "        model.fit(X_scaled)\n",
    "        clusters.append(k+1)\n",
    "        losses.append(model.inertia_)"
   ]
  },
  {
   "cell_type": "code",
   "execution_count": 139,
   "metadata": {},
   "outputs": [
    {
     "ename": "KeyboardInterrupt",
     "evalue": "",
     "output_type": "error",
     "traceback": [
      "\u001b[0;31m---------------------------------------------------------------------------\u001b[0m",
      "\u001b[0;31mKeyboardInterrupt\u001b[0m                         Traceback (most recent call last)",
      "\u001b[0;32m<ipython-input-139-21cd53bb5f59>\u001b[0m in \u001b[0;36m<module>\u001b[0;34m\u001b[0m\n\u001b[0;32m----> 1\u001b[0;31m \u001b[0mget_ipython\u001b[0m\u001b[0;34m(\u001b[0m\u001b[0;34m)\u001b[0m\u001b[0;34m.\u001b[0m\u001b[0mrun_line_magic\u001b[0m\u001b[0;34m(\u001b[0m\u001b[0;34m'timeit'\u001b[0m\u001b[0;34m,\u001b[0m \u001b[0;34m'run_k_loop()'\u001b[0m\u001b[0;34m)\u001b[0m\u001b[0;34m\u001b[0m\u001b[0;34m\u001b[0m\u001b[0m\n\u001b[0m",
      "\u001b[0;32m~/opt/anaconda3/lib/python3.7/site-packages/IPython/core/interactiveshell.py\u001b[0m in \u001b[0;36mrun_line_magic\u001b[0;34m(self, magic_name, line, _stack_depth)\u001b[0m\n\u001b[1;32m   2312\u001b[0m                 \u001b[0mkwargs\u001b[0m\u001b[0;34m[\u001b[0m\u001b[0;34m'local_ns'\u001b[0m\u001b[0;34m]\u001b[0m \u001b[0;34m=\u001b[0m \u001b[0msys\u001b[0m\u001b[0;34m.\u001b[0m\u001b[0m_getframe\u001b[0m\u001b[0;34m(\u001b[0m\u001b[0mstack_depth\u001b[0m\u001b[0;34m)\u001b[0m\u001b[0;34m.\u001b[0m\u001b[0mf_locals\u001b[0m\u001b[0;34m\u001b[0m\u001b[0;34m\u001b[0m\u001b[0m\n\u001b[1;32m   2313\u001b[0m             \u001b[0;32mwith\u001b[0m \u001b[0mself\u001b[0m\u001b[0;34m.\u001b[0m\u001b[0mbuiltin_trap\u001b[0m\u001b[0;34m:\u001b[0m\u001b[0;34m\u001b[0m\u001b[0;34m\u001b[0m\u001b[0m\n\u001b[0;32m-> 2314\u001b[0;31m                 \u001b[0mresult\u001b[0m \u001b[0;34m=\u001b[0m \u001b[0mfn\u001b[0m\u001b[0;34m(\u001b[0m\u001b[0;34m*\u001b[0m\u001b[0margs\u001b[0m\u001b[0;34m,\u001b[0m \u001b[0;34m**\u001b[0m\u001b[0mkwargs\u001b[0m\u001b[0;34m)\u001b[0m\u001b[0;34m\u001b[0m\u001b[0;34m\u001b[0m\u001b[0m\n\u001b[0m\u001b[1;32m   2315\u001b[0m             \u001b[0;32mreturn\u001b[0m \u001b[0mresult\u001b[0m\u001b[0;34m\u001b[0m\u001b[0;34m\u001b[0m\u001b[0m\n\u001b[1;32m   2316\u001b[0m \u001b[0;34m\u001b[0m\u001b[0m\n",
      "\u001b[0;32m</Users/alida/opt/anaconda3/lib/python3.7/site-packages/decorator.py:decorator-gen-60>\u001b[0m in \u001b[0;36mtimeit\u001b[0;34m(self, line, cell, local_ns)\u001b[0m\n",
      "\u001b[0;32m~/opt/anaconda3/lib/python3.7/site-packages/IPython/core/magic.py\u001b[0m in \u001b[0;36m<lambda>\u001b[0;34m(f, *a, **k)\u001b[0m\n\u001b[1;32m    185\u001b[0m     \u001b[0;31m# but it's overkill for just that one bit of state.\u001b[0m\u001b[0;34m\u001b[0m\u001b[0;34m\u001b[0m\u001b[0;34m\u001b[0m\u001b[0m\n\u001b[1;32m    186\u001b[0m     \u001b[0;32mdef\u001b[0m \u001b[0mmagic_deco\u001b[0m\u001b[0;34m(\u001b[0m\u001b[0marg\u001b[0m\u001b[0;34m)\u001b[0m\u001b[0;34m:\u001b[0m\u001b[0;34m\u001b[0m\u001b[0;34m\u001b[0m\u001b[0m\n\u001b[0;32m--> 187\u001b[0;31m         \u001b[0mcall\u001b[0m \u001b[0;34m=\u001b[0m \u001b[0;32mlambda\u001b[0m \u001b[0mf\u001b[0m\u001b[0;34m,\u001b[0m \u001b[0;34m*\u001b[0m\u001b[0ma\u001b[0m\u001b[0;34m,\u001b[0m \u001b[0;34m**\u001b[0m\u001b[0mk\u001b[0m\u001b[0;34m:\u001b[0m \u001b[0mf\u001b[0m\u001b[0;34m(\u001b[0m\u001b[0;34m*\u001b[0m\u001b[0ma\u001b[0m\u001b[0;34m,\u001b[0m \u001b[0;34m**\u001b[0m\u001b[0mk\u001b[0m\u001b[0;34m)\u001b[0m\u001b[0;34m\u001b[0m\u001b[0;34m\u001b[0m\u001b[0m\n\u001b[0m\u001b[1;32m    188\u001b[0m \u001b[0;34m\u001b[0m\u001b[0m\n\u001b[1;32m    189\u001b[0m         \u001b[0;32mif\u001b[0m \u001b[0mcallable\u001b[0m\u001b[0;34m(\u001b[0m\u001b[0marg\u001b[0m\u001b[0;34m)\u001b[0m\u001b[0;34m:\u001b[0m\u001b[0;34m\u001b[0m\u001b[0;34m\u001b[0m\u001b[0m\n",
      "\u001b[0;32m~/opt/anaconda3/lib/python3.7/site-packages/IPython/core/magics/execution.py\u001b[0m in \u001b[0;36mtimeit\u001b[0;34m(self, line, cell, local_ns)\u001b[0m\n\u001b[1;32m   1156\u001b[0m             \u001b[0;32mfor\u001b[0m \u001b[0mindex\u001b[0m \u001b[0;32min\u001b[0m \u001b[0mrange\u001b[0m\u001b[0;34m(\u001b[0m\u001b[0;36m0\u001b[0m\u001b[0;34m,\u001b[0m \u001b[0;36m10\u001b[0m\u001b[0;34m)\u001b[0m\u001b[0;34m:\u001b[0m\u001b[0;34m\u001b[0m\u001b[0;34m\u001b[0m\u001b[0m\n\u001b[1;32m   1157\u001b[0m                 \u001b[0mnumber\u001b[0m \u001b[0;34m=\u001b[0m \u001b[0;36m10\u001b[0m \u001b[0;34m**\u001b[0m \u001b[0mindex\u001b[0m\u001b[0;34m\u001b[0m\u001b[0;34m\u001b[0m\u001b[0m\n\u001b[0;32m-> 1158\u001b[0;31m                 \u001b[0mtime_number\u001b[0m \u001b[0;34m=\u001b[0m \u001b[0mtimer\u001b[0m\u001b[0;34m.\u001b[0m\u001b[0mtimeit\u001b[0m\u001b[0;34m(\u001b[0m\u001b[0mnumber\u001b[0m\u001b[0;34m)\u001b[0m\u001b[0;34m\u001b[0m\u001b[0;34m\u001b[0m\u001b[0m\n\u001b[0m\u001b[1;32m   1159\u001b[0m                 \u001b[0;32mif\u001b[0m \u001b[0mtime_number\u001b[0m \u001b[0;34m>=\u001b[0m \u001b[0;36m0.2\u001b[0m\u001b[0;34m:\u001b[0m\u001b[0;34m\u001b[0m\u001b[0;34m\u001b[0m\u001b[0m\n\u001b[1;32m   1160\u001b[0m                     \u001b[0;32mbreak\u001b[0m\u001b[0;34m\u001b[0m\u001b[0;34m\u001b[0m\u001b[0m\n",
      "\u001b[0;32m~/opt/anaconda3/lib/python3.7/site-packages/IPython/core/magics/execution.py\u001b[0m in \u001b[0;36mtimeit\u001b[0;34m(self, number)\u001b[0m\n\u001b[1;32m    167\u001b[0m         \u001b[0mgc\u001b[0m\u001b[0;34m.\u001b[0m\u001b[0mdisable\u001b[0m\u001b[0;34m(\u001b[0m\u001b[0;34m)\u001b[0m\u001b[0;34m\u001b[0m\u001b[0;34m\u001b[0m\u001b[0m\n\u001b[1;32m    168\u001b[0m         \u001b[0;32mtry\u001b[0m\u001b[0;34m:\u001b[0m\u001b[0;34m\u001b[0m\u001b[0;34m\u001b[0m\u001b[0m\n\u001b[0;32m--> 169\u001b[0;31m             \u001b[0mtiming\u001b[0m \u001b[0;34m=\u001b[0m \u001b[0mself\u001b[0m\u001b[0;34m.\u001b[0m\u001b[0minner\u001b[0m\u001b[0;34m(\u001b[0m\u001b[0mit\u001b[0m\u001b[0;34m,\u001b[0m \u001b[0mself\u001b[0m\u001b[0;34m.\u001b[0m\u001b[0mtimer\u001b[0m\u001b[0;34m)\u001b[0m\u001b[0;34m\u001b[0m\u001b[0;34m\u001b[0m\u001b[0m\n\u001b[0m\u001b[1;32m    170\u001b[0m         \u001b[0;32mfinally\u001b[0m\u001b[0;34m:\u001b[0m\u001b[0;34m\u001b[0m\u001b[0;34m\u001b[0m\u001b[0m\n\u001b[1;32m    171\u001b[0m             \u001b[0;32mif\u001b[0m \u001b[0mgcold\u001b[0m\u001b[0;34m:\u001b[0m\u001b[0;34m\u001b[0m\u001b[0;34m\u001b[0m\u001b[0m\n",
      "\u001b[0;32m<magic-timeit>\u001b[0m in \u001b[0;36minner\u001b[0;34m(_it, _timer)\u001b[0m\n",
      "\u001b[0;32m<ipython-input-138-f1649c253fef>\u001b[0m in \u001b[0;36mrun_k_loop\u001b[0;34m()\u001b[0m\n\u001b[1;32m      6\u001b[0m     \u001b[0;32mfor\u001b[0m \u001b[0mk\u001b[0m \u001b[0;32min\u001b[0m \u001b[0mrange\u001b[0m\u001b[0;34m(\u001b[0m\u001b[0mk_max\u001b[0m\u001b[0;34m)\u001b[0m\u001b[0;34m:\u001b[0m\u001b[0;34m\u001b[0m\u001b[0;34m\u001b[0m\u001b[0m\n\u001b[1;32m      7\u001b[0m         \u001b[0mmodel\u001b[0m \u001b[0;34m=\u001b[0m \u001b[0mKMeans\u001b[0m\u001b[0;34m(\u001b[0m\u001b[0mn_clusters\u001b[0m\u001b[0;34m=\u001b[0m\u001b[0mk\u001b[0m\u001b[0;34m+\u001b[0m\u001b[0;36m1\u001b[0m\u001b[0;34m)\u001b[0m\u001b[0;34m\u001b[0m\u001b[0;34m\u001b[0m\u001b[0m\n\u001b[0;32m----> 8\u001b[0;31m         \u001b[0mmodel\u001b[0m\u001b[0;34m.\u001b[0m\u001b[0mfit\u001b[0m\u001b[0;34m(\u001b[0m\u001b[0mX_scaled\u001b[0m\u001b[0;34m)\u001b[0m\u001b[0;34m\u001b[0m\u001b[0;34m\u001b[0m\u001b[0m\n\u001b[0m\u001b[1;32m      9\u001b[0m         \u001b[0mclusters\u001b[0m\u001b[0;34m.\u001b[0m\u001b[0mappend\u001b[0m\u001b[0;34m(\u001b[0m\u001b[0mk\u001b[0m\u001b[0;34m+\u001b[0m\u001b[0;36m1\u001b[0m\u001b[0;34m)\u001b[0m\u001b[0;34m\u001b[0m\u001b[0;34m\u001b[0m\u001b[0m\n\u001b[1;32m     10\u001b[0m         \u001b[0mlosses\u001b[0m\u001b[0;34m.\u001b[0m\u001b[0mappend\u001b[0m\u001b[0;34m(\u001b[0m\u001b[0mmodel\u001b[0m\u001b[0;34m.\u001b[0m\u001b[0minertia_\u001b[0m\u001b[0;34m)\u001b[0m\u001b[0;34m\u001b[0m\u001b[0;34m\u001b[0m\u001b[0m\n",
      "\u001b[0;32m~/opt/anaconda3/lib/python3.7/site-packages/sklearn/cluster/k_means_.py\u001b[0m in \u001b[0;36mfit\u001b[0;34m(self, X, y, sample_weight)\u001b[0m\n\u001b[1;32m    970\u001b[0m                 \u001b[0mtol\u001b[0m\u001b[0;34m=\u001b[0m\u001b[0mself\u001b[0m\u001b[0;34m.\u001b[0m\u001b[0mtol\u001b[0m\u001b[0;34m,\u001b[0m \u001b[0mrandom_state\u001b[0m\u001b[0;34m=\u001b[0m\u001b[0mrandom_state\u001b[0m\u001b[0;34m,\u001b[0m \u001b[0mcopy_x\u001b[0m\u001b[0;34m=\u001b[0m\u001b[0mself\u001b[0m\u001b[0;34m.\u001b[0m\u001b[0mcopy_x\u001b[0m\u001b[0;34m,\u001b[0m\u001b[0;34m\u001b[0m\u001b[0;34m\u001b[0m\u001b[0m\n\u001b[1;32m    971\u001b[0m                 \u001b[0mn_jobs\u001b[0m\u001b[0;34m=\u001b[0m\u001b[0mself\u001b[0m\u001b[0;34m.\u001b[0m\u001b[0mn_jobs\u001b[0m\u001b[0;34m,\u001b[0m \u001b[0malgorithm\u001b[0m\u001b[0;34m=\u001b[0m\u001b[0mself\u001b[0m\u001b[0;34m.\u001b[0m\u001b[0malgorithm\u001b[0m\u001b[0;34m,\u001b[0m\u001b[0;34m\u001b[0m\u001b[0;34m\u001b[0m\u001b[0m\n\u001b[0;32m--> 972\u001b[0;31m                 return_n_iter=True)\n\u001b[0m\u001b[1;32m    973\u001b[0m         \u001b[0;32mreturn\u001b[0m \u001b[0mself\u001b[0m\u001b[0;34m\u001b[0m\u001b[0;34m\u001b[0m\u001b[0m\n\u001b[1;32m    974\u001b[0m \u001b[0;34m\u001b[0m\u001b[0m\n",
      "\u001b[0;32m~/opt/anaconda3/lib/python3.7/site-packages/sklearn/cluster/k_means_.py\u001b[0m in \u001b[0;36mk_means\u001b[0;34m(X, n_clusters, sample_weight, init, precompute_distances, n_init, max_iter, verbose, tol, random_state, copy_x, n_jobs, algorithm, return_n_iter)\u001b[0m\n\u001b[1;32m    379\u001b[0m                 \u001b[0mverbose\u001b[0m\u001b[0;34m=\u001b[0m\u001b[0mverbose\u001b[0m\u001b[0;34m,\u001b[0m \u001b[0mprecompute_distances\u001b[0m\u001b[0;34m=\u001b[0m\u001b[0mprecompute_distances\u001b[0m\u001b[0;34m,\u001b[0m\u001b[0;34m\u001b[0m\u001b[0;34m\u001b[0m\u001b[0m\n\u001b[1;32m    380\u001b[0m                 \u001b[0mtol\u001b[0m\u001b[0;34m=\u001b[0m\u001b[0mtol\u001b[0m\u001b[0;34m,\u001b[0m \u001b[0mx_squared_norms\u001b[0m\u001b[0;34m=\u001b[0m\u001b[0mx_squared_norms\u001b[0m\u001b[0;34m,\u001b[0m\u001b[0;34m\u001b[0m\u001b[0;34m\u001b[0m\u001b[0m\n\u001b[0;32m--> 381\u001b[0;31m                 random_state=random_state)\n\u001b[0m\u001b[1;32m    382\u001b[0m             \u001b[0;31m# determine if these results are the best so far\u001b[0m\u001b[0;34m\u001b[0m\u001b[0;34m\u001b[0m\u001b[0;34m\u001b[0m\u001b[0m\n\u001b[1;32m    383\u001b[0m             \u001b[0;32mif\u001b[0m \u001b[0mbest_inertia\u001b[0m \u001b[0;32mis\u001b[0m \u001b[0;32mNone\u001b[0m \u001b[0;32mor\u001b[0m \u001b[0minertia\u001b[0m \u001b[0;34m<\u001b[0m \u001b[0mbest_inertia\u001b[0m\u001b[0;34m:\u001b[0m\u001b[0;34m\u001b[0m\u001b[0;34m\u001b[0m\u001b[0m\n",
      "\u001b[0;32m~/opt/anaconda3/lib/python3.7/site-packages/sklearn/cluster/k_means_.py\u001b[0m in \u001b[0;36m_kmeans_single_elkan\u001b[0;34m(X, sample_weight, n_clusters, max_iter, init, verbose, x_squared_norms, random_state, tol, precompute_distances)\u001b[0m\n\u001b[1;32m    443\u001b[0m     centers, labels, n_iter = k_means_elkan(X, checked_sample_weight,\n\u001b[1;32m    444\u001b[0m                                             \u001b[0mn_clusters\u001b[0m\u001b[0;34m,\u001b[0m \u001b[0mcenters\u001b[0m\u001b[0;34m,\u001b[0m \u001b[0mtol\u001b[0m\u001b[0;34m=\u001b[0m\u001b[0mtol\u001b[0m\u001b[0;34m,\u001b[0m\u001b[0;34m\u001b[0m\u001b[0;34m\u001b[0m\u001b[0m\n\u001b[0;32m--> 445\u001b[0;31m                                             max_iter=max_iter, verbose=verbose)\n\u001b[0m\u001b[1;32m    446\u001b[0m     \u001b[0;32mif\u001b[0m \u001b[0msample_weight\u001b[0m \u001b[0;32mis\u001b[0m \u001b[0;32mNone\u001b[0m\u001b[0;34m:\u001b[0m\u001b[0;34m\u001b[0m\u001b[0;34m\u001b[0m\u001b[0m\n\u001b[1;32m    447\u001b[0m         \u001b[0minertia\u001b[0m \u001b[0;34m=\u001b[0m \u001b[0mnp\u001b[0m\u001b[0;34m.\u001b[0m\u001b[0msum\u001b[0m\u001b[0;34m(\u001b[0m\u001b[0;34m(\u001b[0m\u001b[0mX\u001b[0m \u001b[0;34m-\u001b[0m \u001b[0mcenters\u001b[0m\u001b[0;34m[\u001b[0m\u001b[0mlabels\u001b[0m\u001b[0;34m]\u001b[0m\u001b[0;34m)\u001b[0m \u001b[0;34m**\u001b[0m \u001b[0;36m2\u001b[0m\u001b[0;34m,\u001b[0m \u001b[0mdtype\u001b[0m\u001b[0;34m=\u001b[0m\u001b[0mnp\u001b[0m\u001b[0;34m.\u001b[0m\u001b[0mfloat64\u001b[0m\u001b[0;34m)\u001b[0m\u001b[0;34m\u001b[0m\u001b[0;34m\u001b[0m\u001b[0m\n",
      "\u001b[0;32msklearn/cluster/_k_means_elkan.pyx\u001b[0m in \u001b[0;36msklearn.cluster._k_means_elkan.k_means_elkan\u001b[0;34m()\u001b[0m\n",
      "\u001b[0;32m~/opt/anaconda3/lib/python3.7/site-packages/sklearn/metrics/pairwise.py\u001b[0m in \u001b[0;36meuclidean_distances\u001b[0;34m(X, Y, Y_norm_squared, squared, X_norm_squared)\u001b[0m\n\u001b[1;32m    163\u001b[0m \u001b[0;34m\u001b[0m\u001b[0m\n\u001b[1;32m    164\u001b[0m \u001b[0;31m# Pairwise distances\u001b[0m\u001b[0;34m\u001b[0m\u001b[0;34m\u001b[0m\u001b[0;34m\u001b[0m\u001b[0m\n\u001b[0;32m--> 165\u001b[0;31m def euclidean_distances(X, Y=None, Y_norm_squared=None, squared=False,\n\u001b[0m\u001b[1;32m    166\u001b[0m                         X_norm_squared=None):\n\u001b[1;32m    167\u001b[0m     \"\"\"\n",
      "\u001b[0;31mKeyboardInterrupt\u001b[0m: "
     ]
    }
   ],
   "source": [
    "%timeit run_k_loop()"
   ]
  },
  {
   "cell_type": "code",
   "execution_count": null,
   "metadata": {},
   "outputs": [],
   "source": [
    "plt.plot(clusters, losses)\n",
    "plt.show()"
   ]
  },
  {
   "cell_type": "code",
   "execution_count": null,
   "metadata": {
    "scrolled": true
   },
   "outputs": [],
   "source": [
    "plt.plot(clusters, losses)\n",
    "plt.xlim([0,10])"
   ]
  },
  {
   "cell_type": "code",
   "execution_count": null,
   "metadata": {},
   "outputs": [],
   "source": [
    "two_means = KMeans(n_clusters=2)\n",
    "two_means.fit(X_scaled)\n",
    "two_means.predict(X_scaled)"
   ]
  },
  {
   "cell_type": "code",
   "execution_count": null,
   "metadata": {},
   "outputs": [],
   "source": [
    "numbers = [\"zero\", \"one\", \"two\", \"three\"]\n",
    "\n",
    "X_scaled_df[\"two\"] = two_means.predict(X_scaled)\n",
    "X_scaled_df[\"two\"] = X_scaled_df[\"two\"].apply(lambda x: numbers[x])\n",
    "sns.pairplot(data=X_scaled_df, hue=\"two\")"
   ]
  },
  {
   "cell_type": "code",
   "execution_count": null,
   "metadata": {},
   "outputs": [],
   "source": []
  },
  {
   "cell_type": "code",
   "execution_count": null,
   "metadata": {},
   "outputs": [],
   "source": []
  },
  {
   "cell_type": "code",
   "execution_count": null,
   "metadata": {},
   "outputs": [],
   "source": []
  },
  {
   "cell_type": "markdown",
   "metadata": {},
   "source": [
    "# Predictive Analysis"
   ]
  },
  {
   "cell_type": "code",
   "execution_count": null,
   "metadata": {},
   "outputs": [],
   "source": [
    "data = pd.DataFrame({'DATE' : pd.date_range(start='1/1/2014', end='31/12/2015 23:00:00', freq='H')})"
   ]
  },
  {
   "cell_type": "code",
   "execution_count": null,
   "metadata": {},
   "outputs": [],
   "source": [
    "data.index = data.DATE\n",
    "temperature_data.index = temperature_data['DATE']\n",
    "precipitation_data.index = precipitation_data['DATE']"
   ]
  },
  {
   "cell_type": "code",
   "execution_count": null,
   "metadata": {
    "scrolled": false
   },
   "outputs": [],
   "source": [
    "data['TEMPERATURE'] = temperature_data['TEMPERATURE']\n",
    "data['PRECIPITATION'] = precipitation_data['PRECIPITATION']\n",
    "data['BOOKING_COUNT'] = hourly_bike_data"
   ]
  },
  {
   "cell_type": "code",
   "execution_count": null,
   "metadata": {
    "scrolled": true
   },
   "outputs": [],
   "source": [
    "data"
   ]
  },
  {
   "cell_type": "code",
   "execution_count": null,
   "metadata": {},
   "outputs": [],
   "source": []
  },
  {
   "cell_type": "code",
   "execution_count": null,
   "metadata": {},
   "outputs": [],
   "source": []
  },
  {
   "cell_type": "code",
   "execution_count": null,
   "metadata": {},
   "outputs": [],
   "source": []
  }
 ],
 "metadata": {
  "kernelspec": {
   "display_name": "Python 3",
   "language": "python",
   "name": "python3"
  },
  "language_info": {
   "codemirror_mode": {
    "name": "ipython",
    "version": 3
   },
   "file_extension": ".py",
   "mimetype": "text/x-python",
   "name": "python",
   "nbconvert_exporter": "python",
   "pygments_lexer": "ipython3",
   "version": "3.7.4"
  }
 },
 "nbformat": 4,
 "nbformat_minor": 2
}
